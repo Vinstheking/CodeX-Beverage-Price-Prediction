{
 "cells": [
  {
   "cell_type": "code",
   "execution_count": 1,
   "id": "2c3f841d",
   "metadata": {},
   "outputs": [],
   "source": [
    "import numpy as np\n",
    "import pandas as pd\n"
   ]
  },
  {
   "cell_type": "code",
   "execution_count": 2,
   "id": "2b0f74f0",
   "metadata": {},
   "outputs": [
    {
     "name": "stdout",
     "output_type": "stream",
     "text": [
      "(30010, 17)\n"
     ]
    },
    {
     "data": {
      "text/html": [
       "<div>\n",
       "<style scoped>\n",
       "    .dataframe tbody tr th:only-of-type {\n",
       "        vertical-align: middle;\n",
       "    }\n",
       "\n",
       "    .dataframe tbody tr th {\n",
       "        vertical-align: top;\n",
       "    }\n",
       "\n",
       "    .dataframe thead th {\n",
       "        text-align: right;\n",
       "    }\n",
       "</style>\n",
       "<table border=\"1\" class=\"dataframe\">\n",
       "  <thead>\n",
       "    <tr style=\"text-align: right;\">\n",
       "      <th></th>\n",
       "      <th>respondent_id</th>\n",
       "      <th>age</th>\n",
       "      <th>gender</th>\n",
       "      <th>zone</th>\n",
       "      <th>occupation</th>\n",
       "      <th>income_levels</th>\n",
       "      <th>consume_frequency(weekly)</th>\n",
       "      <th>current_brand</th>\n",
       "      <th>preferable_consumption_size</th>\n",
       "      <th>awareness_of_other_brands</th>\n",
       "      <th>reasons_for_choosing_brands</th>\n",
       "      <th>flavor_preference</th>\n",
       "      <th>purchase_channel</th>\n",
       "      <th>packaging_preference</th>\n",
       "      <th>health_concerns</th>\n",
       "      <th>typical_consumption_situations</th>\n",
       "      <th>price_range</th>\n",
       "    </tr>\n",
       "  </thead>\n",
       "  <tbody>\n",
       "    <tr>\n",
       "      <th>0</th>\n",
       "      <td>R00001</td>\n",
       "      <td>30</td>\n",
       "      <td>M</td>\n",
       "      <td>Urban</td>\n",
       "      <td>Working Professional</td>\n",
       "      <td>&lt;10L</td>\n",
       "      <td>3-4 times</td>\n",
       "      <td>Newcomer</td>\n",
       "      <td>Medium (500 ml)</td>\n",
       "      <td>0 to 1</td>\n",
       "      <td>Price</td>\n",
       "      <td>Traditional</td>\n",
       "      <td>Online</td>\n",
       "      <td>Simple</td>\n",
       "      <td>Medium (Moderately health-conscious)</td>\n",
       "      <td>Active (eg. Sports, gym)</td>\n",
       "      <td>100-150</td>\n",
       "    </tr>\n",
       "    <tr>\n",
       "      <th>1</th>\n",
       "      <td>R00002</td>\n",
       "      <td>46</td>\n",
       "      <td>F</td>\n",
       "      <td>Metro</td>\n",
       "      <td>Working Professional</td>\n",
       "      <td>&gt; 35L</td>\n",
       "      <td>5-7 times</td>\n",
       "      <td>Established</td>\n",
       "      <td>Medium (500 ml)</td>\n",
       "      <td>2 to 4</td>\n",
       "      <td>Quality</td>\n",
       "      <td>Exotic</td>\n",
       "      <td>Retail Store</td>\n",
       "      <td>Premium</td>\n",
       "      <td>Medium (Moderately health-conscious)</td>\n",
       "      <td>Social (eg. Parties)</td>\n",
       "      <td>200-250</td>\n",
       "    </tr>\n",
       "    <tr>\n",
       "      <th>2</th>\n",
       "      <td>R00003</td>\n",
       "      <td>41</td>\n",
       "      <td>F</td>\n",
       "      <td>Rural</td>\n",
       "      <td>Working Professional</td>\n",
       "      <td>&gt; 35L</td>\n",
       "      <td>3-4 times</td>\n",
       "      <td>Newcomer</td>\n",
       "      <td>Medium (500 ml)</td>\n",
       "      <td>2 to 4</td>\n",
       "      <td>Availability</td>\n",
       "      <td>Traditional</td>\n",
       "      <td>Retail Store</td>\n",
       "      <td>Premium</td>\n",
       "      <td>Medium (Moderately health-conscious)</td>\n",
       "      <td>Active (eg. Sports, gym)</td>\n",
       "      <td>200-250</td>\n",
       "    </tr>\n",
       "    <tr>\n",
       "      <th>3</th>\n",
       "      <td>R00004</td>\n",
       "      <td>33</td>\n",
       "      <td>F</td>\n",
       "      <td>Urban</td>\n",
       "      <td>Working Professional</td>\n",
       "      <td>16L - 25L</td>\n",
       "      <td>5-7 times</td>\n",
       "      <td>Newcomer</td>\n",
       "      <td>Medium (500 ml)</td>\n",
       "      <td>0 to 1</td>\n",
       "      <td>Brand Reputation</td>\n",
       "      <td>Exotic</td>\n",
       "      <td>Online</td>\n",
       "      <td>Eco-Friendly</td>\n",
       "      <td>Low (Not very concerned)</td>\n",
       "      <td>Active (eg. Sports, gym)</td>\n",
       "      <td>150-200</td>\n",
       "    </tr>\n",
       "    <tr>\n",
       "      <th>4</th>\n",
       "      <td>R00005</td>\n",
       "      <td>23</td>\n",
       "      <td>M</td>\n",
       "      <td>Metro</td>\n",
       "      <td>Student</td>\n",
       "      <td>NaN</td>\n",
       "      <td>3-4 times</td>\n",
       "      <td>Established</td>\n",
       "      <td>Medium (500 ml)</td>\n",
       "      <td>0 to 1</td>\n",
       "      <td>Availability</td>\n",
       "      <td>Traditional</td>\n",
       "      <td>Online</td>\n",
       "      <td>Premium</td>\n",
       "      <td>Medium (Moderately health-conscious)</td>\n",
       "      <td>Active (eg. Sports, gym)</td>\n",
       "      <td>50-100</td>\n",
       "    </tr>\n",
       "  </tbody>\n",
       "</table>\n",
       "</div>"
      ],
      "text/plain": [
       "  respondent_id  age gender   zone            occupation income_levels  \\\n",
       "0        R00001   30      M  Urban  Working Professional          <10L   \n",
       "1        R00002   46      F  Metro  Working Professional         > 35L   \n",
       "2        R00003   41      F  Rural  Working Professional         > 35L   \n",
       "3        R00004   33      F  Urban  Working Professional     16L - 25L   \n",
       "4        R00005   23      M  Metro               Student           NaN   \n",
       "\n",
       "  consume_frequency(weekly) current_brand preferable_consumption_size  \\\n",
       "0                 3-4 times      Newcomer             Medium (500 ml)   \n",
       "1                 5-7 times   Established             Medium (500 ml)   \n",
       "2                 3-4 times      Newcomer             Medium (500 ml)   \n",
       "3                 5-7 times      Newcomer             Medium (500 ml)   \n",
       "4                 3-4 times   Established             Medium (500 ml)   \n",
       "\n",
       "  awareness_of_other_brands reasons_for_choosing_brands flavor_preference  \\\n",
       "0                    0 to 1                       Price       Traditional   \n",
       "1                    2 to 4                     Quality            Exotic   \n",
       "2                    2 to 4                Availability       Traditional   \n",
       "3                    0 to 1            Brand Reputation            Exotic   \n",
       "4                    0 to 1                Availability       Traditional   \n",
       "\n",
       "  purchase_channel packaging_preference                       health_concerns  \\\n",
       "0           Online               Simple  Medium (Moderately health-conscious)   \n",
       "1     Retail Store              Premium  Medium (Moderately health-conscious)   \n",
       "2     Retail Store              Premium  Medium (Moderately health-conscious)   \n",
       "3           Online         Eco-Friendly              Low (Not very concerned)   \n",
       "4           Online              Premium  Medium (Moderately health-conscious)   \n",
       "\n",
       "  typical_consumption_situations price_range  \n",
       "0       Active (eg. Sports, gym)     100-150  \n",
       "1           Social (eg. Parties)     200-250  \n",
       "2       Active (eg. Sports, gym)     200-250  \n",
       "3       Active (eg. Sports, gym)     150-200  \n",
       "4       Active (eg. Sports, gym)      50-100  "
      ]
     },
     "execution_count": 2,
     "metadata": {},
     "output_type": "execute_result"
    }
   ],
   "source": [
    "df=pd.read_csv('survey_results.csv')\n",
    "print(df.shape)\n",
    "df.head()"
   ]
  },
  {
   "cell_type": "code",
   "execution_count": null,
   "id": "5d78c6fd",
   "metadata": {},
   "outputs": [],
   "source": [
    "df.drop([''])"
   ]
  },
  {
   "cell_type": "code",
   "execution_count": 128,
   "id": "634b05a2",
   "metadata": {},
   "outputs": [],
   "source": [
    "df_temp=pd.read_csv('survey_results.csv')"
   ]
  },
  {
   "cell_type": "code",
   "execution_count": 129,
   "id": "b032f1f9",
   "metadata": {},
   "outputs": [
    {
     "data": {
      "text/plain": [
       "consume_frequency(weekly)\n",
       "3-4 times    11795\n",
       "5-7 times     9777\n",
       "0-2 times     8430\n",
       "Name: count, dtype: int64"
      ]
     },
     "execution_count": 129,
     "metadata": {},
     "output_type": "execute_result"
    }
   ],
   "source": [
    "df_temp['consume_frequency(weekly)'].value_counts()"
   ]
  },
  {
   "cell_type": "code",
   "execution_count": 130,
   "id": "dc39e9d9",
   "metadata": {},
   "outputs": [
    {
     "data": {
      "text/plain": [
       "(30010, 17)"
      ]
     },
     "execution_count": 130,
     "metadata": {},
     "output_type": "execute_result"
    }
   ],
   "source": [
    "df.shape"
   ]
  },
  {
   "cell_type": "code",
   "execution_count": 131,
   "id": "7541f85f",
   "metadata": {},
   "outputs": [],
   "source": [
    "df=df.drop_duplicates()"
   ]
  },
  {
   "cell_type": "code",
   "execution_count": 132,
   "id": "2704a6a1",
   "metadata": {},
   "outputs": [
    {
     "data": {
      "text/plain": [
       "count    30000.000000\n",
       "mean        33.048167\n",
       "std         13.438904\n",
       "min         18.000000\n",
       "25%         23.000000\n",
       "50%         31.000000\n",
       "75%         40.000000\n",
       "max        604.000000\n",
       "Name: age, dtype: float64"
      ]
     },
     "execution_count": 132,
     "metadata": {},
     "output_type": "execute_result"
    }
   ],
   "source": [
    "df['age'].describe()"
   ]
  },
  {
   "cell_type": "code",
   "execution_count": 133,
   "id": "54480cd2",
   "metadata": {},
   "outputs": [
    {
     "name": "stdout",
     "output_type": "stream",
     "text": [
      "\n",
      "Q1 (25th percentile): 23.0\n",
      "Q3 (75th percentile): 40.0\n",
      "IQR (Interquartile Range): 17.0\n",
      "Lower bound for statistical outliers (Q1 - 1.5*IQR): -2.5\n",
      "Upper bound for statistical outliers (Q3 + 1.5*IQR): 65.5\n"
     ]
    }
   ],
   "source": [
    "\n",
    "# 2. Calculate IQR to identify potential statistical outliers\n",
    "Q1 = df['age'].quantile(0.25)\n",
    "Q3 = df['age'].quantile(0.75)\n",
    "IQR = Q3 - Q1\n",
    "lower_bound = Q1 - 1.5 * IQR\n",
    "upper_bound = Q3 + 1.5 * IQR\n",
    "\n",
    "print(f\"\\nQ1 (25th percentile): {Q1}\")\n",
    "print(f\"Q3 (75th percentile): {Q3}\")\n",
    "print(f\"IQR (Interquartile Range): {IQR}\")\n",
    "print(f\"Lower bound for statistical outliers (Q1 - 1.5*IQR): {lower_bound}\")\n",
    "print(f\"Upper bound for statistical outliers (Q3 + 1.5*IQR): {upper_bound}\")\n"
   ]
  },
  {
   "cell_type": "code",
   "execution_count": 134,
   "id": "028e16f6",
   "metadata": {},
   "outputs": [
    {
     "data": {
      "text/plain": [
       "(390, 17)"
      ]
     },
     "execution_count": 134,
     "metadata": {},
     "output_type": "execute_result"
    }
   ],
   "source": [
    "df[(df['age'] < 70) & (df['age'] > 65) ].shape"
   ]
  },
  {
   "cell_type": "code",
   "execution_count": 135,
   "id": "718e0fa0",
   "metadata": {},
   "outputs": [
    {
     "data": {
      "text/plain": [
       "(30000, 17)"
      ]
     },
     "execution_count": 135,
     "metadata": {},
     "output_type": "execute_result"
    }
   ],
   "source": [
    "df.shape"
   ]
  },
  {
   "cell_type": "code",
   "execution_count": 136,
   "id": "7d65820b",
   "metadata": {},
   "outputs": [
    {
     "data": {
      "text/html": [
       "<div>\n",
       "<style scoped>\n",
       "    .dataframe tbody tr th:only-of-type {\n",
       "        vertical-align: middle;\n",
       "    }\n",
       "\n",
       "    .dataframe tbody tr th {\n",
       "        vertical-align: top;\n",
       "    }\n",
       "\n",
       "    .dataframe thead th {\n",
       "        text-align: right;\n",
       "    }\n",
       "</style>\n",
       "<table border=\"1\" class=\"dataframe\">\n",
       "  <thead>\n",
       "    <tr style=\"text-align: right;\">\n",
       "      <th></th>\n",
       "      <th>respondent_id</th>\n",
       "      <th>age</th>\n",
       "      <th>gender</th>\n",
       "      <th>zone</th>\n",
       "      <th>occupation</th>\n",
       "      <th>income_levels</th>\n",
       "      <th>consume_frequency(weekly)</th>\n",
       "      <th>current_brand</th>\n",
       "      <th>preferable_consumption_size</th>\n",
       "      <th>awareness_of_other_brands</th>\n",
       "      <th>reasons_for_choosing_brands</th>\n",
       "      <th>flavor_preference</th>\n",
       "      <th>purchase_channel</th>\n",
       "      <th>packaging_preference</th>\n",
       "      <th>health_concerns</th>\n",
       "      <th>typical_consumption_situations</th>\n",
       "      <th>price_range</th>\n",
       "    </tr>\n",
       "  </thead>\n",
       "  <tbody>\n",
       "    <tr>\n",
       "      <th>3099</th>\n",
       "      <td>R03098</td>\n",
       "      <td>453</td>\n",
       "      <td>M</td>\n",
       "      <td>Metro</td>\n",
       "      <td>Working Professional</td>\n",
       "      <td>26L - 35L</td>\n",
       "      <td>3-4 times</td>\n",
       "      <td>Established</td>\n",
       "      <td>Medium (500 ml)</td>\n",
       "      <td>2 to 4</td>\n",
       "      <td>Brand Reputation</td>\n",
       "      <td>Traditional</td>\n",
       "      <td>Retail Store</td>\n",
       "      <td>Premium</td>\n",
       "      <td>Medium (Moderately health-conscious)</td>\n",
       "      <td>Social (eg. Parties)</td>\n",
       "      <td>200-250</td>\n",
       "    </tr>\n",
       "    <tr>\n",
       "      <th>6262</th>\n",
       "      <td>R06260</td>\n",
       "      <td>428</td>\n",
       "      <td>M</td>\n",
       "      <td>Urban</td>\n",
       "      <td>Entrepreneur</td>\n",
       "      <td>16L - 25L</td>\n",
       "      <td>5-7 times</td>\n",
       "      <td>Established</td>\n",
       "      <td>Large (1 L)</td>\n",
       "      <td>above 4</td>\n",
       "      <td>Quality</td>\n",
       "      <td>Exotic</td>\n",
       "      <td>Online</td>\n",
       "      <td>Simple</td>\n",
       "      <td>High (Very health-conscious)</td>\n",
       "      <td>Social (eg. Parties)</td>\n",
       "      <td>200-250</td>\n",
       "    </tr>\n",
       "    <tr>\n",
       "      <th>12403</th>\n",
       "      <td>R12398</td>\n",
       "      <td>604</td>\n",
       "      <td>M</td>\n",
       "      <td>Metro</td>\n",
       "      <td>Retired</td>\n",
       "      <td>&lt;10L</td>\n",
       "      <td>0-2 times</td>\n",
       "      <td>Newcomer</td>\n",
       "      <td>Small (250 ml)</td>\n",
       "      <td>2 to 4</td>\n",
       "      <td>Availability</td>\n",
       "      <td>Traditional</td>\n",
       "      <td>Online</td>\n",
       "      <td>Simple</td>\n",
       "      <td>Medium (Moderately health-conscious)</td>\n",
       "      <td>Casual (eg. At home)</td>\n",
       "      <td>100-150</td>\n",
       "    </tr>\n",
       "    <tr>\n",
       "      <th>22549</th>\n",
       "      <td>R22542</td>\n",
       "      <td>457</td>\n",
       "      <td>M</td>\n",
       "      <td>Metro</td>\n",
       "      <td>Working Professional</td>\n",
       "      <td>16L - 25L</td>\n",
       "      <td>3-4 times</td>\n",
       "      <td>Newcomer</td>\n",
       "      <td>Small (250 ml)</td>\n",
       "      <td>2 to 4</td>\n",
       "      <td>Price</td>\n",
       "      <td>Traditional</td>\n",
       "      <td>Online</td>\n",
       "      <td>Premium</td>\n",
       "      <td>High (Very health-conscious)</td>\n",
       "      <td>Casual (eg. At home)</td>\n",
       "      <td>200-250</td>\n",
       "    </tr>\n",
       "    <tr>\n",
       "      <th>22918</th>\n",
       "      <td>R22911</td>\n",
       "      <td>267</td>\n",
       "      <td>F</td>\n",
       "      <td>Metro</td>\n",
       "      <td>Working Professional</td>\n",
       "      <td>16L - 25L</td>\n",
       "      <td>3-4 times</td>\n",
       "      <td>Established</td>\n",
       "      <td>Medium (500 ml)</td>\n",
       "      <td>above 4</td>\n",
       "      <td>Brand Reputation</td>\n",
       "      <td>Exotic</td>\n",
       "      <td>Online</td>\n",
       "      <td>Eco-Friendly</td>\n",
       "      <td>Low (Not very concerned)</td>\n",
       "      <td>Active (eg. Sports, gym)</td>\n",
       "      <td>150-200</td>\n",
       "    </tr>\n",
       "    <tr>\n",
       "      <th>24958</th>\n",
       "      <td>R24950</td>\n",
       "      <td>285</td>\n",
       "      <td>M</td>\n",
       "      <td>Semi-Urban</td>\n",
       "      <td>Working Professional</td>\n",
       "      <td>&gt; 35L</td>\n",
       "      <td>0-2 times</td>\n",
       "      <td>Newcomer</td>\n",
       "      <td>Small (250 ml)</td>\n",
       "      <td>2 to 4</td>\n",
       "      <td>Price</td>\n",
       "      <td>Traditional</td>\n",
       "      <td>Online</td>\n",
       "      <td>Simple</td>\n",
       "      <td>Medium (Moderately health-conscious)</td>\n",
       "      <td>Active (eg. Sports, gym)</td>\n",
       "      <td>150-200</td>\n",
       "    </tr>\n",
       "    <tr>\n",
       "      <th>24960</th>\n",
       "      <td>R24952</td>\n",
       "      <td>192</td>\n",
       "      <td>F</td>\n",
       "      <td>Urban</td>\n",
       "      <td>Student</td>\n",
       "      <td>NaN</td>\n",
       "      <td>3-4 times</td>\n",
       "      <td>Newcomer</td>\n",
       "      <td>Medium (500 ml)</td>\n",
       "      <td>0 to 1</td>\n",
       "      <td>Price</td>\n",
       "      <td>Traditional</td>\n",
       "      <td>Online</td>\n",
       "      <td>Simple</td>\n",
       "      <td>Low (Not very concerned)</td>\n",
       "      <td>Active (eg. Sports, gym)</td>\n",
       "      <td>50-100</td>\n",
       "    </tr>\n",
       "    <tr>\n",
       "      <th>25105</th>\n",
       "      <td>R25096</td>\n",
       "      <td>203</td>\n",
       "      <td>M</td>\n",
       "      <td>Metro</td>\n",
       "      <td>Working Professional</td>\n",
       "      <td>16L - 25L</td>\n",
       "      <td>0-2 times</td>\n",
       "      <td>Established</td>\n",
       "      <td>Small (250 ml)</td>\n",
       "      <td>2 to 4</td>\n",
       "      <td>Brand Reputation</td>\n",
       "      <td>Exotic</td>\n",
       "      <td>Retail Store</td>\n",
       "      <td>Premium</td>\n",
       "      <td>High (Very health-conscious)</td>\n",
       "      <td>Active (eg. Sports, gym)</td>\n",
       "      <td>150-200</td>\n",
       "    </tr>\n",
       "    <tr>\n",
       "      <th>28770</th>\n",
       "      <td>R28761</td>\n",
       "      <td>428</td>\n",
       "      <td>F</td>\n",
       "      <td>Rural</td>\n",
       "      <td>Working Professional</td>\n",
       "      <td>26L - 35L</td>\n",
       "      <td>0-2 times</td>\n",
       "      <td>Established</td>\n",
       "      <td>Small (250 ml)</td>\n",
       "      <td>2 to 4</td>\n",
       "      <td>Brand Reputation</td>\n",
       "      <td>Exotic</td>\n",
       "      <td>Online</td>\n",
       "      <td>Simple</td>\n",
       "      <td>Medium (Moderately health-conscious)</td>\n",
       "      <td>Casual (eg. At home)</td>\n",
       "      <td>150-200</td>\n",
       "    </tr>\n",
       "  </tbody>\n",
       "</table>\n",
       "</div>"
      ],
      "text/plain": [
       "      respondent_id  age gender        zone            occupation  \\\n",
       "3099         R03098  453      M       Metro  Working Professional   \n",
       "6262         R06260  428      M       Urban          Entrepreneur   \n",
       "12403        R12398  604      M       Metro               Retired   \n",
       "22549        R22542  457      M       Metro  Working Professional   \n",
       "22918        R22911  267      F       Metro  Working Professional   \n",
       "24958        R24950  285      M  Semi-Urban  Working Professional   \n",
       "24960        R24952  192      F       Urban               Student   \n",
       "25105        R25096  203      M       Metro  Working Professional   \n",
       "28770        R28761  428      F       Rural  Working Professional   \n",
       "\n",
       "      income_levels consume_frequency(weekly) current_brand  \\\n",
       "3099      26L - 35L                 3-4 times   Established   \n",
       "6262      16L - 25L                 5-7 times   Established   \n",
       "12403          <10L                 0-2 times      Newcomer   \n",
       "22549     16L - 25L                 3-4 times      Newcomer   \n",
       "22918     16L - 25L                 3-4 times   Established   \n",
       "24958         > 35L                 0-2 times      Newcomer   \n",
       "24960           NaN                 3-4 times      Newcomer   \n",
       "25105     16L - 25L                 0-2 times   Established   \n",
       "28770     26L - 35L                 0-2 times   Established   \n",
       "\n",
       "      preferable_consumption_size awareness_of_other_brands  \\\n",
       "3099              Medium (500 ml)                    2 to 4   \n",
       "6262                  Large (1 L)                   above 4   \n",
       "12403              Small (250 ml)                    2 to 4   \n",
       "22549              Small (250 ml)                    2 to 4   \n",
       "22918             Medium (500 ml)                   above 4   \n",
       "24958              Small (250 ml)                    2 to 4   \n",
       "24960             Medium (500 ml)                    0 to 1   \n",
       "25105              Small (250 ml)                    2 to 4   \n",
       "28770              Small (250 ml)                    2 to 4   \n",
       "\n",
       "      reasons_for_choosing_brands flavor_preference purchase_channel  \\\n",
       "3099             Brand Reputation       Traditional     Retail Store   \n",
       "6262                      Quality            Exotic           Online   \n",
       "12403                Availability       Traditional           Online   \n",
       "22549                       Price       Traditional           Online   \n",
       "22918            Brand Reputation            Exotic           Online   \n",
       "24958                       Price       Traditional           Online   \n",
       "24960                       Price       Traditional           Online   \n",
       "25105            Brand Reputation            Exotic     Retail Store   \n",
       "28770            Brand Reputation            Exotic           Online   \n",
       "\n",
       "      packaging_preference                       health_concerns  \\\n",
       "3099               Premium  Medium (Moderately health-conscious)   \n",
       "6262                Simple          High (Very health-conscious)   \n",
       "12403               Simple  Medium (Moderately health-conscious)   \n",
       "22549              Premium          High (Very health-conscious)   \n",
       "22918         Eco-Friendly              Low (Not very concerned)   \n",
       "24958               Simple  Medium (Moderately health-conscious)   \n",
       "24960               Simple              Low (Not very concerned)   \n",
       "25105              Premium          High (Very health-conscious)   \n",
       "28770               Simple  Medium (Moderately health-conscious)   \n",
       "\n",
       "      typical_consumption_situations price_range  \n",
       "3099            Social (eg. Parties)     200-250  \n",
       "6262            Social (eg. Parties)     200-250  \n",
       "12403           Casual (eg. At home)     100-150  \n",
       "22549           Casual (eg. At home)     200-250  \n",
       "22918       Active (eg. Sports, gym)     150-200  \n",
       "24958       Active (eg. Sports, gym)     150-200  \n",
       "24960       Active (eg. Sports, gym)      50-100  \n",
       "25105       Active (eg. Sports, gym)     150-200  \n",
       "28770           Casual (eg. At home)     150-200  "
      ]
     },
     "execution_count": 136,
     "metadata": {},
     "output_type": "execute_result"
    }
   ],
   "source": [
    "df[df['age']>100]"
   ]
  },
  {
   "cell_type": "code",
   "execution_count": 137,
   "id": "6b6bacfe",
   "metadata": {},
   "outputs": [
    {
     "data": {
      "text/plain": [
       "respondent_id                        0\n",
       "age                                  0\n",
       "gender                               0\n",
       "zone                                 0\n",
       "occupation                           0\n",
       "income_levels                     8061\n",
       "consume_frequency(weekly)            8\n",
       "current_brand                        0\n",
       "preferable_consumption_size          0\n",
       "awareness_of_other_brands            0\n",
       "reasons_for_choosing_brands          0\n",
       "flavor_preference                    0\n",
       "purchase_channel                    10\n",
       "packaging_preference                 0\n",
       "health_concerns                      0\n",
       "typical_consumption_situations       0\n",
       "price_range                          0\n",
       "dtype: int64"
      ]
     },
     "execution_count": 137,
     "metadata": {},
     "output_type": "execute_result"
    }
   ],
   "source": [
    "df.isna().sum()"
   ]
  },
  {
   "cell_type": "code",
   "execution_count": 138,
   "id": "26f38778",
   "metadata": {},
   "outputs": [
    {
     "data": {
      "text/plain": [
       "income_levels\n",
       "16L - 25L    5901\n",
       "10L - 15L    5251\n",
       "<10L         4662\n",
       "26L - 35L    3874\n",
       "> 35L        2251\n",
       "Name: count, dtype: int64"
      ]
     },
     "execution_count": 138,
     "metadata": {},
     "output_type": "execute_result"
    }
   ],
   "source": [
    "df['income_levels'].value_counts()"
   ]
  },
  {
   "cell_type": "code",
   "execution_count": 139,
   "id": "bdd2946f",
   "metadata": {},
   "outputs": [
    {
     "name": "stderr",
     "output_type": "stream",
     "text": [
      "C:\\Users\\Vinay S\\AppData\\Local\\Temp\\ipykernel_15968\\3412502329.py:1: FutureWarning: A value is trying to be set on a copy of a DataFrame or Series through chained assignment using an inplace method.\n",
      "The behavior will change in pandas 3.0. This inplace method will never work because the intermediate object on which we are setting values always behaves as a copy.\n",
      "\n",
      "For example, when doing 'df[col].method(value, inplace=True)', try using 'df.method({col: value}, inplace=True)' or df[col] = df[col].method(value) instead, to perform the operation inplace on the original object.\n",
      "\n",
      "\n",
      "  df['income_levels'].fillna(\"Not Reported\", inplace=True)\n"
     ]
    }
   ],
   "source": [
    "df['income_levels'].fillna(\"Not Reported\", inplace=True)"
   ]
  },
  {
   "cell_type": "code",
   "execution_count": 140,
   "id": "e1317b6f",
   "metadata": {},
   "outputs": [
    {
     "data": {
      "text/plain": [
       "income_levels\n",
       "Not Reported    8061\n",
       "16L - 25L       5901\n",
       "10L - 15L       5251\n",
       "<10L            4662\n",
       "26L - 35L       3874\n",
       "> 35L           2251\n",
       "Name: count, dtype: int64"
      ]
     },
     "execution_count": 140,
     "metadata": {},
     "output_type": "execute_result"
    }
   ],
   "source": [
    "df['income_levels'].value_counts()"
   ]
  },
  {
   "cell_type": "code",
   "execution_count": 142,
   "id": "fb5a05d5",
   "metadata": {},
   "outputs": [
    {
     "data": {
      "text/plain": [
       "consume_frequency(weekly)\n",
       "3-4 times    11790\n",
       "5-7 times     9775\n",
       "0-2 times     8427\n",
       "Name: count, dtype: int64"
      ]
     },
     "execution_count": 142,
     "metadata": {},
     "output_type": "execute_result"
    }
   ],
   "source": [
    "df['consume_frequency(weekly)'].value_counts()"
   ]
  },
  {
   "cell_type": "code",
   "execution_count": 143,
   "id": "97125956",
   "metadata": {},
   "outputs": [],
   "source": [
    "mode=df['consume_frequency(weekly)'].mode()"
   ]
  },
  {
   "cell_type": "code",
   "execution_count": 144,
   "id": "bbe96c5a",
   "metadata": {},
   "outputs": [
    {
     "name": "stderr",
     "output_type": "stream",
     "text": [
      "C:\\Users\\Vinay S\\AppData\\Local\\Temp\\ipykernel_15968\\2373344811.py:1: FutureWarning: A value is trying to be set on a copy of a DataFrame or Series through chained assignment using an inplace method.\n",
      "The behavior will change in pandas 3.0. This inplace method will never work because the intermediate object on which we are setting values always behaves as a copy.\n",
      "\n",
      "For example, when doing 'df[col].method(value, inplace=True)', try using 'df.method({col: value}, inplace=True)' or df[col] = df[col].method(value) instead, to perform the operation inplace on the original object.\n",
      "\n",
      "\n",
      "  df['consume_frequency(weekly)'].fillna(mode.item(),inplace=True)\n"
     ]
    }
   ],
   "source": [
    "df['consume_frequency(weekly)'].fillna(mode.item(),inplace=True)"
   ]
  },
  {
   "cell_type": "code",
   "execution_count": 145,
   "id": "2bfe31a6",
   "metadata": {},
   "outputs": [
    {
     "data": {
      "text/plain": [
       "consume_frequency(weekly)\n",
       "3-4 times    11798\n",
       "5-7 times     9775\n",
       "0-2 times     8427\n",
       "Name: count, dtype: int64"
      ]
     },
     "execution_count": 145,
     "metadata": {},
     "output_type": "execute_result"
    }
   ],
   "source": [
    "df['consume_frequency(weekly)'].value_counts()"
   ]
  },
  {
   "cell_type": "code",
   "execution_count": 146,
   "id": "d379ee3c",
   "metadata": {},
   "outputs": [
    {
     "data": {
      "text/plain": [
       "purchase_channel\n",
       "Online          16569\n",
       "Retail Store    13421\n",
       "Name: count, dtype: int64"
      ]
     },
     "execution_count": 146,
     "metadata": {},
     "output_type": "execute_result"
    }
   ],
   "source": [
    "df['purchase_channel'].value_counts()"
   ]
  },
  {
   "cell_type": "code",
   "execution_count": 147,
   "id": "6a23d63c",
   "metadata": {},
   "outputs": [],
   "source": [
    "mode=df['purchase_channel'].mode()"
   ]
  },
  {
   "cell_type": "code",
   "execution_count": 103,
   "id": "ec4eeeba",
   "metadata": {},
   "outputs": [
    {
     "data": {
      "text/plain": [
       "0    Online\n",
       "Name: purchase_channel, dtype: object"
      ]
     },
     "execution_count": 103,
     "metadata": {},
     "output_type": "execute_result"
    }
   ],
   "source": [
    "mode"
   ]
  },
  {
   "cell_type": "code",
   "execution_count": 148,
   "id": "cf6fd4f5",
   "metadata": {},
   "outputs": [
    {
     "name": "stderr",
     "output_type": "stream",
     "text": [
      "C:\\Users\\Vinay S\\AppData\\Local\\Temp\\ipykernel_15968\\2951694459.py:1: FutureWarning: A value is trying to be set on a copy of a DataFrame or Series through chained assignment using an inplace method.\n",
      "The behavior will change in pandas 3.0. This inplace method will never work because the intermediate object on which we are setting values always behaves as a copy.\n",
      "\n",
      "For example, when doing 'df[col].method(value, inplace=True)', try using 'df.method({col: value}, inplace=True)' or df[col] = df[col].method(value) instead, to perform the operation inplace on the original object.\n",
      "\n",
      "\n",
      "  df['purchase_channel'].fillna(mode.item(),inplace=True)\n"
     ]
    }
   ],
   "source": [
    "df['purchase_channel'].fillna(mode.item(),inplace=True)"
   ]
  },
  {
   "cell_type": "code",
   "execution_count": 149,
   "id": "81ada264",
   "metadata": {},
   "outputs": [
    {
     "data": {
      "text/html": [
       "<div>\n",
       "<style scoped>\n",
       "    .dataframe tbody tr th:only-of-type {\n",
       "        vertical-align: middle;\n",
       "    }\n",
       "\n",
       "    .dataframe tbody tr th {\n",
       "        vertical-align: top;\n",
       "    }\n",
       "\n",
       "    .dataframe thead th {\n",
       "        text-align: right;\n",
       "    }\n",
       "</style>\n",
       "<table border=\"1\" class=\"dataframe\">\n",
       "  <thead>\n",
       "    <tr style=\"text-align: right;\">\n",
       "      <th></th>\n",
       "      <th>respondent_id</th>\n",
       "      <th>age</th>\n",
       "      <th>gender</th>\n",
       "      <th>zone</th>\n",
       "      <th>occupation</th>\n",
       "      <th>income_levels</th>\n",
       "      <th>consume_frequency(weekly)</th>\n",
       "      <th>current_brand</th>\n",
       "      <th>preferable_consumption_size</th>\n",
       "      <th>awareness_of_other_brands</th>\n",
       "      <th>reasons_for_choosing_brands</th>\n",
       "      <th>flavor_preference</th>\n",
       "      <th>purchase_channel</th>\n",
       "      <th>packaging_preference</th>\n",
       "      <th>health_concerns</th>\n",
       "      <th>typical_consumption_situations</th>\n",
       "      <th>price_range</th>\n",
       "    </tr>\n",
       "  </thead>\n",
       "  <tbody>\n",
       "  </tbody>\n",
       "</table>\n",
       "</div>"
      ],
      "text/plain": [
       "Empty DataFrame\n",
       "Columns: [respondent_id, age, gender, zone, occupation, income_levels, consume_frequency(weekly), current_brand, preferable_consumption_size, awareness_of_other_brands, reasons_for_choosing_brands, flavor_preference, purchase_channel, packaging_preference, health_concerns, typical_consumption_situations, price_range]\n",
       "Index: []"
      ]
     },
     "execution_count": 149,
     "metadata": {},
     "output_type": "execute_result"
    }
   ],
   "source": [
    "df[df['purchase_channel'].isna()]"
   ]
  },
  {
   "cell_type": "code",
   "execution_count": 150,
   "id": "70a97ff7",
   "metadata": {},
   "outputs": [
    {
     "data": {
      "text/plain": [
       "respondent_id                     0\n",
       "age                               0\n",
       "gender                            0\n",
       "zone                              0\n",
       "occupation                        0\n",
       "income_levels                     0\n",
       "consume_frequency(weekly)         0\n",
       "current_brand                     0\n",
       "preferable_consumption_size       0\n",
       "awareness_of_other_brands         0\n",
       "reasons_for_choosing_brands       0\n",
       "flavor_preference                 0\n",
       "purchase_channel                  0\n",
       "packaging_preference              0\n",
       "health_concerns                   0\n",
       "typical_consumption_situations    0\n",
       "price_range                       0\n",
       "dtype: int64"
      ]
     },
     "execution_count": 150,
     "metadata": {},
     "output_type": "execute_result"
    }
   ],
   "source": [
    "df.isna().sum()"
   ]
  },
  {
   "cell_type": "code",
   "execution_count": 151,
   "id": "dfaef675",
   "metadata": {},
   "outputs": [
    {
     "data": {
      "text/plain": [
       "zone\n",
       "Metro         11911\n",
       "Urban         10688\n",
       "Semi-Urban     5275\n",
       "Rural          2117\n",
       "urbna             5\n",
       "Metor             4\n",
       "Name: count, dtype: int64"
      ]
     },
     "execution_count": 151,
     "metadata": {},
     "output_type": "execute_result"
    }
   ],
   "source": [
    "df['zone'].value_counts()"
   ]
  },
  {
   "cell_type": "code",
   "execution_count": 152,
   "id": "dd56a3a3",
   "metadata": {},
   "outputs": [],
   "source": [
    "zone_corrections = {\n",
    "    'Metor': 'Metro',\n",
    "    'urbna': 'Urban'\n",
    "}\n",
    "\n",
    "# Apply the corrections\n",
    "df['zone'] = df['zone'].replace(zone_corrections)"
   ]
  },
  {
   "cell_type": "code",
   "execution_count": 153,
   "id": "5684da81",
   "metadata": {},
   "outputs": [
    {
     "data": {
      "text/plain": [
       "zone\n",
       "Metro         11915\n",
       "Urban         10693\n",
       "Semi-Urban     5275\n",
       "Rural          2117\n",
       "Name: count, dtype: int64"
      ]
     },
     "execution_count": 153,
     "metadata": {},
     "output_type": "execute_result"
    }
   ],
   "source": [
    "df['zone'].value_counts()"
   ]
  },
  {
   "cell_type": "code",
   "execution_count": 154,
   "id": "f4b2cdea",
   "metadata": {},
   "outputs": [
    {
     "data": {
      "text/plain": [
       "current_brand\n",
       "Established    15447\n",
       "Newcomer       14503\n",
       "newcomer          30\n",
       "Establishd        20\n",
       "Name: count, dtype: int64"
      ]
     },
     "execution_count": 154,
     "metadata": {},
     "output_type": "execute_result"
    }
   ],
   "source": [
    "df['current_brand'].value_counts()"
   ]
  },
  {
   "cell_type": "code",
   "execution_count": 155,
   "id": "f4b8abc3",
   "metadata": {},
   "outputs": [],
   "source": [
    "zone_corrections = {\n",
    "    'newcomer': 'Newcomer',\n",
    "    'Establishd': 'Established'\n",
    "}\n",
    "\n",
    "# Apply the corrections\n",
    "df['current_brand'] = df['current_brand'].replace(zone_corrections)"
   ]
  },
  {
   "cell_type": "code",
   "execution_count": 156,
   "id": "3e2cd0ba",
   "metadata": {},
   "outputs": [
    {
     "data": {
      "text/plain": [
       "current_brand\n",
       "Established    15467\n",
       "Newcomer       14533\n",
       "Name: count, dtype: int64"
      ]
     },
     "execution_count": 156,
     "metadata": {},
     "output_type": "execute_result"
    }
   ],
   "source": [
    "df['current_brand'].value_counts()"
   ]
  },
  {
   "cell_type": "code",
   "execution_count": 157,
   "id": "4130c21e",
   "metadata": {},
   "outputs": [],
   "source": [
    "dff=df"
   ]
  },
  {
   "cell_type": "code",
   "execution_count": 158,
   "id": "b5a5c362",
   "metadata": {},
   "outputs": [],
   "source": [
    "bins = [18, 26, 36, 46, 56, 71, float('inf')]\n",
    "\n",
    "# Define the labels for the age groups\n",
    "labels = ['18-25', '26-35', '36-45', '46-55', '56-70', '70+']\n",
    "\n",
    "# Create the 'age_group' column using pd.cut()\n",
    "# pd.cut is used to segment and sort data values into bins.\n",
    "df['age_group'] = pd.cut(df['age'], bins=bins, labels=labels, right=False)"
   ]
  },
  {
   "cell_type": "code",
   "execution_count": 159,
   "id": "35f5d393",
   "metadata": {},
   "outputs": [
    {
     "data": {
      "text/plain": [
       "np.int64(0)"
      ]
     },
     "execution_count": 159,
     "metadata": {},
     "output_type": "execute_result"
    }
   ],
   "source": [
    "df['age_group'].isnull().sum()"
   ]
  },
  {
   "cell_type": "code",
   "execution_count": 160,
   "id": "81a92383",
   "metadata": {},
   "outputs": [
    {
     "data": {
      "text/plain": [
       "consume_frequency(weekly)\n",
       "3-4 times    11798\n",
       "5-7 times     9775\n",
       "0-2 times     8427\n",
       "Name: count, dtype: int64"
      ]
     },
     "execution_count": 160,
     "metadata": {},
     "output_type": "execute_result"
    }
   ],
   "source": [
    "df['consume_frequency(weekly)'].value_counts()"
   ]
  },
  {
   "cell_type": "code",
   "execution_count": 161,
   "id": "5126695e",
   "metadata": {},
   "outputs": [
    {
     "data": {
      "text/plain": [
       "awareness_of_other_brands\n",
       "0 to 1     12967\n",
       "2 to 4     11231\n",
       "above 4     5802\n",
       "Name: count, dtype: int64"
      ]
     },
     "execution_count": 161,
     "metadata": {},
     "output_type": "execute_result"
    }
   ],
   "source": [
    "df['awareness_of_other_brands'].value_counts()"
   ]
  },
  {
   "cell_type": "code",
   "execution_count": 162,
   "id": "a9383d18",
   "metadata": {},
   "outputs": [],
   "source": [
    "frequency_mapping = {\n",
    "    \"0-2 times\": 1,\n",
    "    \"3-4 times\": 2,\n",
    "    \"5-7 times\": 3\n",
    "}\n",
    "\n",
    "awareness_mapping = {\n",
    "    \"0 to 1\": 1,\n",
    "    \"2 to 4\": 2,\n",
    "    \"above 4\": 3\n",
    "}"
   ]
  },
  {
   "cell_type": "code",
   "execution_count": 164,
   "id": "70dde52e",
   "metadata": {},
   "outputs": [],
   "source": [
    "df['frequency_score'] = df['consume_frequency(weekly)'].map(frequency_mapping)\n",
    "df['awareness_score'] = df['awareness_of_other_brands'].map(awareness_mapping)"
   ]
  },
  {
   "cell_type": "code",
   "execution_count": 166,
   "id": "38ea4211",
   "metadata": {},
   "outputs": [],
   "source": [
    "df['cf_ab_score'] = df.apply(\n",
    "    lambda row: row['frequency_score'] / (row['frequency_score'] + row['awareness_score']),\n",
    "    axis=1\n",
    ")"
   ]
  },
  {
   "cell_type": "code",
   "execution_count": 170,
   "id": "c45df502",
   "metadata": {},
   "outputs": [],
   "source": [
    "df['cf_ab_score'] = df['cf_ab_score'].round(2)"
   ]
  },
  {
   "cell_type": "code",
   "execution_count": 172,
   "id": "91f050eb",
   "metadata": {},
   "outputs": [
    {
     "data": {
      "text/plain": [
       "0.75"
      ]
     },
     "execution_count": 172,
     "metadata": {},
     "output_type": "execute_result"
    }
   ],
   "source": [
    "df['cf_ab_score'].max()"
   ]
  },
  {
   "cell_type": "code",
   "execution_count": 174,
   "id": "bdf5802f",
   "metadata": {},
   "outputs": [
    {
     "data": {
      "text/plain": [
       "income_levels\n",
       "Not Reported    8061\n",
       "16L - 25L       5901\n",
       "10L - 15L       5251\n",
       "<10L            4662\n",
       "26L - 35L       3874\n",
       "> 35L           2251\n",
       "Name: count, dtype: int64"
      ]
     },
     "execution_count": 174,
     "metadata": {},
     "output_type": "execute_result"
    }
   ],
   "source": [
    "df['income_levels'].value_counts()"
   ]
  },
  {
   "cell_type": "code",
   "execution_count": 175,
   "id": "ecdc9f2c",
   "metadata": {},
   "outputs": [],
   "source": [
    "zone_mapping = {\n",
    "    \"Urban\": 3,\n",
    "    \"Metro\": 4,\n",
    "    \"Rural\": 1,\n",
    "    \"Semi-Urban\": 2\n",
    "}\n",
    "\n",
    "income_mapping = {\n",
    "    \"<10L\": 1,\n",
    "    \"10L - 15L\": 2,  # Corrected for potential spaces in original data\n",
    "    \"16L - 25L\": 3,  # Corrected for potential spaces in original data\n",
    "    \"26L - 35L\": 4,  # Corrected for potential spaces in original data\n",
    "    \"> 35L\": 5,      # Corrected for potential space after '>'\n",
    "    \"Not Reported\": 0       \n",
    "}"
   ]
  },
  {
   "cell_type": "code",
   "execution_count": 176,
   "id": "9dd8b43a",
   "metadata": {},
   "outputs": [],
   "source": [
    "df['zone_score'] = df['zone'].map(zone_mapping)\n",
    "df['income_score'] = df['income_levels'].map(income_mapping)"
   ]
  },
  {
   "cell_type": "code",
   "execution_count": 178,
   "id": "6c62beff",
   "metadata": {},
   "outputs": [
    {
     "data": {
      "text/plain": [
       "np.int64(0)"
      ]
     },
     "execution_count": 178,
     "metadata": {},
     "output_type": "execute_result"
    }
   ],
   "source": [
    "df['zone_score'].isna().sum()"
   ]
  },
  {
   "cell_type": "code",
   "execution_count": 179,
   "id": "423661b8",
   "metadata": {},
   "outputs": [],
   "source": [
    "df['zas_score'] = df['zone_score'] * df['income_score']"
   ]
  },
  {
   "cell_type": "code",
   "execution_count": 184,
   "id": "daf9790f",
   "metadata": {},
   "outputs": [
    {
     "data": {
      "text/plain": [
       "14"
      ]
     },
     "execution_count": 184,
     "metadata": {},
     "output_type": "execute_result"
    }
   ],
   "source": [
    "len(df['zas_score'].unique())"
   ]
  },
  {
   "cell_type": "code",
   "execution_count": 186,
   "id": "c75b737c",
   "metadata": {},
   "outputs": [
    {
     "data": {
      "text/plain": [
       "current_brand\n",
       "Established    15467\n",
       "Newcomer       14533\n",
       "Name: count, dtype: int64"
      ]
     },
     "execution_count": 186,
     "metadata": {},
     "output_type": "execute_result"
    }
   ],
   "source": [
    "df['current_brand'].value_counts()"
   ]
  },
  {
   "cell_type": "code",
   "execution_count": 187,
   "id": "65e2ad18",
   "metadata": {},
   "outputs": [
    {
     "data": {
      "text/plain": [
       "reasons_for_choosing_brands\n",
       "Price               14141\n",
       "Availability         6591\n",
       "Brand Reputation     4665\n",
       "Quality              4603\n",
       "Name: count, dtype: int64"
      ]
     },
     "execution_count": 187,
     "metadata": {},
     "output_type": "execute_result"
    }
   ],
   "source": [
    "df['reasons_for_choosing_brands'].value_counts()"
   ]
  },
  {
   "cell_type": "code",
   "execution_count": 189,
   "id": "89ee9644",
   "metadata": {},
   "outputs": [],
   "source": [
    "condition_brand_not_established = df['current_brand'] != 'Established'\n",
    "\n",
    "# Condition 2: reasons_for_choosing_brands are either \"Price\" or \"Quality\"\n",
    "condition_reason_price_or_quality = df['reasons_for_choosing_brands'].isin(['Price', 'Quality'])\n",
    "\n",
    "# Create the 'bsi' column\n",
    "# Assign 1 if both conditions are true, otherwise 0\n",
    "df['bsi'] = ((condition_brand_not_established) & (condition_reason_price_or_quality)).astype(int)"
   ]
  },
  {
   "cell_type": "code",
   "execution_count": 191,
   "id": "1fd3fa62",
   "metadata": {},
   "outputs": [
    {
     "data": {
      "text/html": [
       "<div>\n",
       "<style scoped>\n",
       "    .dataframe tbody tr th:only-of-type {\n",
       "        vertical-align: middle;\n",
       "    }\n",
       "\n",
       "    .dataframe tbody tr th {\n",
       "        vertical-align: top;\n",
       "    }\n",
       "\n",
       "    .dataframe thead th {\n",
       "        text-align: right;\n",
       "    }\n",
       "</style>\n",
       "<table border=\"1\" class=\"dataframe\">\n",
       "  <thead>\n",
       "    <tr style=\"text-align: right;\">\n",
       "      <th></th>\n",
       "      <th>current_brand</th>\n",
       "      <th>reasons_for_choosing_brands</th>\n",
       "      <th>bsi</th>\n",
       "    </tr>\n",
       "  </thead>\n",
       "  <tbody>\n",
       "    <tr>\n",
       "      <th>28419</th>\n",
       "      <td>Established</td>\n",
       "      <td>Brand Reputation</td>\n",
       "      <td>0</td>\n",
       "    </tr>\n",
       "    <tr>\n",
       "      <th>12922</th>\n",
       "      <td>Established</td>\n",
       "      <td>Price</td>\n",
       "      <td>0</td>\n",
       "    </tr>\n",
       "    <tr>\n",
       "      <th>2949</th>\n",
       "      <td>Newcomer</td>\n",
       "      <td>Price</td>\n",
       "      <td>1</td>\n",
       "    </tr>\n",
       "    <tr>\n",
       "      <th>5834</th>\n",
       "      <td>Newcomer</td>\n",
       "      <td>Availability</td>\n",
       "      <td>0</td>\n",
       "    </tr>\n",
       "    <tr>\n",
       "      <th>5776</th>\n",
       "      <td>Established</td>\n",
       "      <td>Price</td>\n",
       "      <td>0</td>\n",
       "    </tr>\n",
       "    <tr>\n",
       "      <th>10303</th>\n",
       "      <td>Newcomer</td>\n",
       "      <td>Price</td>\n",
       "      <td>1</td>\n",
       "    </tr>\n",
       "    <tr>\n",
       "      <th>3928</th>\n",
       "      <td>Newcomer</td>\n",
       "      <td>Price</td>\n",
       "      <td>1</td>\n",
       "    </tr>\n",
       "    <tr>\n",
       "      <th>29773</th>\n",
       "      <td>Established</td>\n",
       "      <td>Price</td>\n",
       "      <td>0</td>\n",
       "    </tr>\n",
       "    <tr>\n",
       "      <th>2979</th>\n",
       "      <td>Established</td>\n",
       "      <td>Price</td>\n",
       "      <td>0</td>\n",
       "    </tr>\n",
       "    <tr>\n",
       "      <th>22878</th>\n",
       "      <td>Newcomer</td>\n",
       "      <td>Quality</td>\n",
       "      <td>1</td>\n",
       "    </tr>\n",
       "  </tbody>\n",
       "</table>\n",
       "</div>"
      ],
      "text/plain": [
       "      current_brand reasons_for_choosing_brands  bsi\n",
       "28419   Established            Brand Reputation    0\n",
       "12922   Established                       Price    0\n",
       "2949       Newcomer                       Price    1\n",
       "5834       Newcomer                Availability    0\n",
       "5776    Established                       Price    0\n",
       "10303      Newcomer                       Price    1\n",
       "3928       Newcomer                       Price    1\n",
       "29773   Established                       Price    0\n",
       "2979    Established                       Price    0\n",
       "22878      Newcomer                     Quality    1"
      ]
     },
     "execution_count": 191,
     "metadata": {},
     "output_type": "execute_result"
    }
   ],
   "source": [
    "df[['current_brand','reasons_for_choosing_brands','bsi']].sample(10)"
   ]
  },
  {
   "cell_type": "code",
   "execution_count": 195,
   "id": "8d42bf83",
   "metadata": {},
   "outputs": [
    {
     "data": {
      "text/plain": [
       "36"
      ]
     },
     "execution_count": 195,
     "metadata": {},
     "output_type": "execute_result"
    }
   ],
   "source": [
    "logical_outliers = df[\n",
    "    (df['occupation'] == 'Student') &\n",
    "    (df['age'] >= 56)\n",
    "]\n",
    "\n",
    "logical_outliers.shape[0]"
   ]
  },
  {
   "cell_type": "code",
   "execution_count": 199,
   "id": "fd7cfd86",
   "metadata": {},
   "outputs": [
    {
     "data": {
      "text/plain": [
       "9"
      ]
     },
     "execution_count": 199,
     "metadata": {},
     "output_type": "execute_result"
    }
   ],
   "source": [
    "logical_temp = df[\n",
    "    (df['age'] > 70)\n",
    "]\n",
    "\n",
    "logical_temp.shape[0]"
   ]
  },
  {
   "cell_type": "code",
   "execution_count": 193,
   "id": "e8428051",
   "metadata": {},
   "outputs": [
    {
     "data": {
      "text/plain": [
       "(30000, 25)"
      ]
     },
     "execution_count": 193,
     "metadata": {},
     "output_type": "execute_result"
    }
   ],
   "source": [
    "df.shape"
   ]
  },
  {
   "cell_type": "code",
   "execution_count": 200,
   "id": "d430a0d7",
   "metadata": {},
   "outputs": [
    {
     "data": {
      "text/plain": [
       "29956"
      ]
     },
     "execution_count": 200,
     "metadata": {},
     "output_type": "execute_result"
    }
   ],
   "source": [
    "30000-9-35\n",
    "\n"
   ]
  },
  {
   "cell_type": "code",
   "execution_count": 202,
   "id": "e3504ab5",
   "metadata": {},
   "outputs": [],
   "source": [
    "df_cleaned = df[\n",
    "    ~((df['occupation'] == 'Student') &\n",
    "      (df['age'] >= 56) &\n",
    "      (df['age'] <= 70))\n",
    "].copy()"
   ]
  },
  {
   "cell_type": "code",
   "execution_count": 208,
   "id": "31055696",
   "metadata": {},
   "outputs": [
    {
     "name": "stderr",
     "output_type": "stream",
     "text": [
      "C:\\Users\\Vinay S\\AppData\\Local\\Temp\\ipykernel_15968\\997523457.py:1: UserWarning: Boolean Series key will be reindexed to match DataFrame index.\n",
      "  df_cleaned1 = df_cleaned[\n"
     ]
    }
   ],
   "source": [
    "df_cleaned1 = df_cleaned[\n",
    "    ~((df['age'] > 70))\n",
    "].copy()"
   ]
  },
  {
   "cell_type": "code",
   "execution_count": 209,
   "id": "2a94bd17",
   "metadata": {},
   "outputs": [
    {
     "data": {
      "text/plain": [
       "(29956, 25)"
      ]
     },
     "execution_count": 209,
     "metadata": {},
     "output_type": "execute_result"
    }
   ],
   "source": [
    "df_cleaned1.shape"
   ]
  },
  {
   "cell_type": "code",
   "execution_count": 210,
   "id": "1a03044e",
   "metadata": {},
   "outputs": [
    {
     "data": {
      "text/plain": [
       "(29965, 25)"
      ]
     },
     "execution_count": 210,
     "metadata": {},
     "output_type": "execute_result"
    }
   ],
   "source": [
    "df_cleaned.shape"
   ]
  },
  {
   "cell_type": "code",
   "execution_count": 211,
   "id": "9d876969",
   "metadata": {},
   "outputs": [
    {
     "data": {
      "text/plain": [
       "bsi\n",
       "0    20796\n",
       "1     9160\n",
       "Name: count, dtype: int64"
      ]
     },
     "execution_count": 211,
     "metadata": {},
     "output_type": "execute_result"
    }
   ],
   "source": [
    "df_cleaned1['bsi'].value_counts()"
   ]
  },
  {
   "cell_type": "code",
   "execution_count": 214,
   "id": "b16336e0",
   "metadata": {},
   "outputs": [],
   "source": [
    "df_cleaned1.to_csv('cleaned.csv',index=False)"
   ]
  },
  {
   "cell_type": "code",
   "execution_count": 215,
   "id": "7eee5dd2",
   "metadata": {},
   "outputs": [
    {
     "name": "stdout",
     "output_type": "stream",
     "text": [
      "(29956, 25)\n"
     ]
    },
    {
     "data": {
      "text/html": [
       "<div>\n",
       "<style scoped>\n",
       "    .dataframe tbody tr th:only-of-type {\n",
       "        vertical-align: middle;\n",
       "    }\n",
       "\n",
       "    .dataframe tbody tr th {\n",
       "        vertical-align: top;\n",
       "    }\n",
       "\n",
       "    .dataframe thead th {\n",
       "        text-align: right;\n",
       "    }\n",
       "</style>\n",
       "<table border=\"1\" class=\"dataframe\">\n",
       "  <thead>\n",
       "    <tr style=\"text-align: right;\">\n",
       "      <th></th>\n",
       "      <th>respondent_id</th>\n",
       "      <th>age</th>\n",
       "      <th>gender</th>\n",
       "      <th>zone</th>\n",
       "      <th>occupation</th>\n",
       "      <th>income_levels</th>\n",
       "      <th>consume_frequency(weekly)</th>\n",
       "      <th>current_brand</th>\n",
       "      <th>preferable_consumption_size</th>\n",
       "      <th>awareness_of_other_brands</th>\n",
       "      <th>...</th>\n",
       "      <th>typical_consumption_situations</th>\n",
       "      <th>price_range</th>\n",
       "      <th>age_group</th>\n",
       "      <th>frequency_score</th>\n",
       "      <th>awareness_score</th>\n",
       "      <th>cf_ab_score</th>\n",
       "      <th>zone_score</th>\n",
       "      <th>income_score</th>\n",
       "      <th>zas_score</th>\n",
       "      <th>bsi</th>\n",
       "    </tr>\n",
       "  </thead>\n",
       "  <tbody>\n",
       "    <tr>\n",
       "      <th>0</th>\n",
       "      <td>R00001</td>\n",
       "      <td>30</td>\n",
       "      <td>M</td>\n",
       "      <td>Urban</td>\n",
       "      <td>Working Professional</td>\n",
       "      <td>&lt;10L</td>\n",
       "      <td>3-4 times</td>\n",
       "      <td>Newcomer</td>\n",
       "      <td>Medium (500 ml)</td>\n",
       "      <td>0 to 1</td>\n",
       "      <td>...</td>\n",
       "      <td>Active (eg. Sports, gym)</td>\n",
       "      <td>100-150</td>\n",
       "      <td>26-35</td>\n",
       "      <td>2</td>\n",
       "      <td>1</td>\n",
       "      <td>0.67</td>\n",
       "      <td>3</td>\n",
       "      <td>1</td>\n",
       "      <td>3</td>\n",
       "      <td>1</td>\n",
       "    </tr>\n",
       "    <tr>\n",
       "      <th>1</th>\n",
       "      <td>R00002</td>\n",
       "      <td>46</td>\n",
       "      <td>F</td>\n",
       "      <td>Metro</td>\n",
       "      <td>Working Professional</td>\n",
       "      <td>&gt; 35L</td>\n",
       "      <td>5-7 times</td>\n",
       "      <td>Established</td>\n",
       "      <td>Medium (500 ml)</td>\n",
       "      <td>2 to 4</td>\n",
       "      <td>...</td>\n",
       "      <td>Social (eg. Parties)</td>\n",
       "      <td>200-250</td>\n",
       "      <td>46-55</td>\n",
       "      <td>3</td>\n",
       "      <td>2</td>\n",
       "      <td>0.60</td>\n",
       "      <td>4</td>\n",
       "      <td>5</td>\n",
       "      <td>20</td>\n",
       "      <td>0</td>\n",
       "    </tr>\n",
       "    <tr>\n",
       "      <th>2</th>\n",
       "      <td>R00003</td>\n",
       "      <td>41</td>\n",
       "      <td>F</td>\n",
       "      <td>Rural</td>\n",
       "      <td>Working Professional</td>\n",
       "      <td>&gt; 35L</td>\n",
       "      <td>3-4 times</td>\n",
       "      <td>Newcomer</td>\n",
       "      <td>Medium (500 ml)</td>\n",
       "      <td>2 to 4</td>\n",
       "      <td>...</td>\n",
       "      <td>Active (eg. Sports, gym)</td>\n",
       "      <td>200-250</td>\n",
       "      <td>36-45</td>\n",
       "      <td>2</td>\n",
       "      <td>2</td>\n",
       "      <td>0.50</td>\n",
       "      <td>1</td>\n",
       "      <td>5</td>\n",
       "      <td>5</td>\n",
       "      <td>0</td>\n",
       "    </tr>\n",
       "    <tr>\n",
       "      <th>3</th>\n",
       "      <td>R00004</td>\n",
       "      <td>33</td>\n",
       "      <td>F</td>\n",
       "      <td>Urban</td>\n",
       "      <td>Working Professional</td>\n",
       "      <td>16L - 25L</td>\n",
       "      <td>5-7 times</td>\n",
       "      <td>Newcomer</td>\n",
       "      <td>Medium (500 ml)</td>\n",
       "      <td>0 to 1</td>\n",
       "      <td>...</td>\n",
       "      <td>Active (eg. Sports, gym)</td>\n",
       "      <td>150-200</td>\n",
       "      <td>26-35</td>\n",
       "      <td>3</td>\n",
       "      <td>1</td>\n",
       "      <td>0.75</td>\n",
       "      <td>3</td>\n",
       "      <td>3</td>\n",
       "      <td>9</td>\n",
       "      <td>0</td>\n",
       "    </tr>\n",
       "    <tr>\n",
       "      <th>4</th>\n",
       "      <td>R00005</td>\n",
       "      <td>23</td>\n",
       "      <td>M</td>\n",
       "      <td>Metro</td>\n",
       "      <td>Student</td>\n",
       "      <td>Not Reported</td>\n",
       "      <td>3-4 times</td>\n",
       "      <td>Established</td>\n",
       "      <td>Medium (500 ml)</td>\n",
       "      <td>0 to 1</td>\n",
       "      <td>...</td>\n",
       "      <td>Active (eg. Sports, gym)</td>\n",
       "      <td>50-100</td>\n",
       "      <td>18-25</td>\n",
       "      <td>2</td>\n",
       "      <td>1</td>\n",
       "      <td>0.67</td>\n",
       "      <td>4</td>\n",
       "      <td>0</td>\n",
       "      <td>0</td>\n",
       "      <td>0</td>\n",
       "    </tr>\n",
       "  </tbody>\n",
       "</table>\n",
       "<p>5 rows × 25 columns</p>\n",
       "</div>"
      ],
      "text/plain": [
       "  respondent_id  age gender   zone            occupation income_levels  \\\n",
       "0        R00001   30      M  Urban  Working Professional          <10L   \n",
       "1        R00002   46      F  Metro  Working Professional         > 35L   \n",
       "2        R00003   41      F  Rural  Working Professional         > 35L   \n",
       "3        R00004   33      F  Urban  Working Professional     16L - 25L   \n",
       "4        R00005   23      M  Metro               Student  Not Reported   \n",
       "\n",
       "  consume_frequency(weekly) current_brand preferable_consumption_size  \\\n",
       "0                 3-4 times      Newcomer             Medium (500 ml)   \n",
       "1                 5-7 times   Established             Medium (500 ml)   \n",
       "2                 3-4 times      Newcomer             Medium (500 ml)   \n",
       "3                 5-7 times      Newcomer             Medium (500 ml)   \n",
       "4                 3-4 times   Established             Medium (500 ml)   \n",
       "\n",
       "  awareness_of_other_brands  ... typical_consumption_situations price_range  \\\n",
       "0                    0 to 1  ...       Active (eg. Sports, gym)     100-150   \n",
       "1                    2 to 4  ...           Social (eg. Parties)     200-250   \n",
       "2                    2 to 4  ...       Active (eg. Sports, gym)     200-250   \n",
       "3                    0 to 1  ...       Active (eg. Sports, gym)     150-200   \n",
       "4                    0 to 1  ...       Active (eg. Sports, gym)      50-100   \n",
       "\n",
       "  age_group frequency_score awareness_score cf_ab_score zone_score  \\\n",
       "0     26-35               2               1        0.67          3   \n",
       "1     46-55               3               2        0.60          4   \n",
       "2     36-45               2               2        0.50          1   \n",
       "3     26-35               3               1        0.75          3   \n",
       "4     18-25               2               1        0.67          4   \n",
       "\n",
       "  income_score  zas_score  bsi  \n",
       "0            1          3    1  \n",
       "1            5         20    0  \n",
       "2            5          5    0  \n",
       "3            3          9    0  \n",
       "4            0          0    0  \n",
       "\n",
       "[5 rows x 25 columns]"
      ]
     },
     "execution_count": 215,
     "metadata": {},
     "output_type": "execute_result"
    }
   ],
   "source": [
    "check=pd.read_csv('cleaned.csv')\n",
    "print(check.shape)\n",
    "check.head()"
   ]
  },
  {
   "cell_type": "code",
   "execution_count": null,
   "id": "a66f93f4",
   "metadata": {},
   "outputs": [],
   "source": []
  }
 ],
 "metadata": {
  "kernelspec": {
   "display_name": "nnenv",
   "language": "python",
   "name": "python3"
  },
  "language_info": {
   "codemirror_mode": {
    "name": "ipython",
    "version": 3
   },
   "file_extension": ".py",
   "mimetype": "text/x-python",
   "name": "python",
   "nbconvert_exporter": "python",
   "pygments_lexer": "ipython3",
   "version": "3.9.21"
  }
 },
 "nbformat": 4,
 "nbformat_minor": 5
}
