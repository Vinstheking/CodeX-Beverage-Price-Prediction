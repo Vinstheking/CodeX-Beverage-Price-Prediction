{
 "cells": [
  {
   "cell_type": "code",
   "execution_count": 63,
   "id": "664de59a",
   "metadata": {},
   "outputs": [],
   "source": [
    "import pandas as pd\n",
    "import numpy as np"
   ]
  },
  {
   "cell_type": "code",
   "execution_count": 64,
   "id": "1ad5cdc2",
   "metadata": {},
   "outputs": [],
   "source": [
    "df=pd.read_csv('cleaned.csv')"
   ]
  },
  {
   "cell_type": "code",
   "execution_count": 65,
   "id": "ab285554",
   "metadata": {},
   "outputs": [],
   "source": [
    "df.drop(['age','frequency_score','awareness_score','cf_ab_score','zone_score','income_score','zas_score','bsi'],inplace=True,axis=1)"
   ]
  },
  {
   "cell_type": "code",
   "execution_count": 66,
   "id": "daf9d7d1",
   "metadata": {},
   "outputs": [
    {
     "data": {
      "text/html": [
       "<div>\n",
       "<style scoped>\n",
       "    .dataframe tbody tr th:only-of-type {\n",
       "        vertical-align: middle;\n",
       "    }\n",
       "\n",
       "    .dataframe tbody tr th {\n",
       "        vertical-align: top;\n",
       "    }\n",
       "\n",
       "    .dataframe thead th {\n",
       "        text-align: right;\n",
       "    }\n",
       "</style>\n",
       "<table border=\"1\" class=\"dataframe\">\n",
       "  <thead>\n",
       "    <tr style=\"text-align: right;\">\n",
       "      <th></th>\n",
       "      <th>respondent_id</th>\n",
       "      <th>gender</th>\n",
       "      <th>zone</th>\n",
       "      <th>occupation</th>\n",
       "      <th>income_levels</th>\n",
       "      <th>consume_frequency(weekly)</th>\n",
       "      <th>current_brand</th>\n",
       "      <th>preferable_consumption_size</th>\n",
       "      <th>awareness_of_other_brands</th>\n",
       "      <th>reasons_for_choosing_brands</th>\n",
       "      <th>flavor_preference</th>\n",
       "      <th>purchase_channel</th>\n",
       "      <th>packaging_preference</th>\n",
       "      <th>health_concerns</th>\n",
       "      <th>typical_consumption_situations</th>\n",
       "      <th>price_range</th>\n",
       "      <th>age_group</th>\n",
       "    </tr>\n",
       "  </thead>\n",
       "  <tbody>\n",
       "    <tr>\n",
       "      <th>0</th>\n",
       "      <td>R00001</td>\n",
       "      <td>M</td>\n",
       "      <td>Urban</td>\n",
       "      <td>Working Professional</td>\n",
       "      <td>&lt;10L</td>\n",
       "      <td>3-4 times</td>\n",
       "      <td>Newcomer</td>\n",
       "      <td>Medium (500 ml)</td>\n",
       "      <td>0 to 1</td>\n",
       "      <td>Price</td>\n",
       "      <td>Traditional</td>\n",
       "      <td>Online</td>\n",
       "      <td>Simple</td>\n",
       "      <td>Medium (Moderately health-conscious)</td>\n",
       "      <td>Active (eg. Sports, gym)</td>\n",
       "      <td>100-150</td>\n",
       "      <td>26-35</td>\n",
       "    </tr>\n",
       "    <tr>\n",
       "      <th>1</th>\n",
       "      <td>R00002</td>\n",
       "      <td>F</td>\n",
       "      <td>Metro</td>\n",
       "      <td>Working Professional</td>\n",
       "      <td>&gt; 35L</td>\n",
       "      <td>5-7 times</td>\n",
       "      <td>Established</td>\n",
       "      <td>Medium (500 ml)</td>\n",
       "      <td>2 to 4</td>\n",
       "      <td>Quality</td>\n",
       "      <td>Exotic</td>\n",
       "      <td>Retail Store</td>\n",
       "      <td>Premium</td>\n",
       "      <td>Medium (Moderately health-conscious)</td>\n",
       "      <td>Social (eg. Parties)</td>\n",
       "      <td>200-250</td>\n",
       "      <td>46-55</td>\n",
       "    </tr>\n",
       "    <tr>\n",
       "      <th>2</th>\n",
       "      <td>R00003</td>\n",
       "      <td>F</td>\n",
       "      <td>Rural</td>\n",
       "      <td>Working Professional</td>\n",
       "      <td>&gt; 35L</td>\n",
       "      <td>3-4 times</td>\n",
       "      <td>Newcomer</td>\n",
       "      <td>Medium (500 ml)</td>\n",
       "      <td>2 to 4</td>\n",
       "      <td>Availability</td>\n",
       "      <td>Traditional</td>\n",
       "      <td>Retail Store</td>\n",
       "      <td>Premium</td>\n",
       "      <td>Medium (Moderately health-conscious)</td>\n",
       "      <td>Active (eg. Sports, gym)</td>\n",
       "      <td>200-250</td>\n",
       "      <td>36-45</td>\n",
       "    </tr>\n",
       "    <tr>\n",
       "      <th>3</th>\n",
       "      <td>R00004</td>\n",
       "      <td>F</td>\n",
       "      <td>Urban</td>\n",
       "      <td>Working Professional</td>\n",
       "      <td>16L - 25L</td>\n",
       "      <td>5-7 times</td>\n",
       "      <td>Newcomer</td>\n",
       "      <td>Medium (500 ml)</td>\n",
       "      <td>0 to 1</td>\n",
       "      <td>Brand Reputation</td>\n",
       "      <td>Exotic</td>\n",
       "      <td>Online</td>\n",
       "      <td>Eco-Friendly</td>\n",
       "      <td>Low (Not very concerned)</td>\n",
       "      <td>Active (eg. Sports, gym)</td>\n",
       "      <td>150-200</td>\n",
       "      <td>26-35</td>\n",
       "    </tr>\n",
       "    <tr>\n",
       "      <th>4</th>\n",
       "      <td>R00005</td>\n",
       "      <td>M</td>\n",
       "      <td>Metro</td>\n",
       "      <td>Student</td>\n",
       "      <td>Not Reported</td>\n",
       "      <td>3-4 times</td>\n",
       "      <td>Established</td>\n",
       "      <td>Medium (500 ml)</td>\n",
       "      <td>0 to 1</td>\n",
       "      <td>Availability</td>\n",
       "      <td>Traditional</td>\n",
       "      <td>Online</td>\n",
       "      <td>Premium</td>\n",
       "      <td>Medium (Moderately health-conscious)</td>\n",
       "      <td>Active (eg. Sports, gym)</td>\n",
       "      <td>50-100</td>\n",
       "      <td>18-25</td>\n",
       "    </tr>\n",
       "  </tbody>\n",
       "</table>\n",
       "</div>"
      ],
      "text/plain": [
       "  respondent_id gender   zone            occupation income_levels  \\\n",
       "0        R00001      M  Urban  Working Professional          <10L   \n",
       "1        R00002      F  Metro  Working Professional         > 35L   \n",
       "2        R00003      F  Rural  Working Professional         > 35L   \n",
       "3        R00004      F  Urban  Working Professional     16L - 25L   \n",
       "4        R00005      M  Metro               Student  Not Reported   \n",
       "\n",
       "  consume_frequency(weekly) current_brand preferable_consumption_size  \\\n",
       "0                 3-4 times      Newcomer             Medium (500 ml)   \n",
       "1                 5-7 times   Established             Medium (500 ml)   \n",
       "2                 3-4 times      Newcomer             Medium (500 ml)   \n",
       "3                 5-7 times      Newcomer             Medium (500 ml)   \n",
       "4                 3-4 times   Established             Medium (500 ml)   \n",
       "\n",
       "  awareness_of_other_brands reasons_for_choosing_brands flavor_preference  \\\n",
       "0                    0 to 1                       Price       Traditional   \n",
       "1                    2 to 4                     Quality            Exotic   \n",
       "2                    2 to 4                Availability       Traditional   \n",
       "3                    0 to 1            Brand Reputation            Exotic   \n",
       "4                    0 to 1                Availability       Traditional   \n",
       "\n",
       "  purchase_channel packaging_preference                       health_concerns  \\\n",
       "0           Online               Simple  Medium (Moderately health-conscious)   \n",
       "1     Retail Store              Premium  Medium (Moderately health-conscious)   \n",
       "2     Retail Store              Premium  Medium (Moderately health-conscious)   \n",
       "3           Online         Eco-Friendly              Low (Not very concerned)   \n",
       "4           Online              Premium  Medium (Moderately health-conscious)   \n",
       "\n",
       "  typical_consumption_situations price_range age_group  \n",
       "0       Active (eg. Sports, gym)     100-150     26-35  \n",
       "1           Social (eg. Parties)     200-250     46-55  \n",
       "2       Active (eg. Sports, gym)     200-250     36-45  \n",
       "3       Active (eg. Sports, gym)     150-200     26-35  \n",
       "4       Active (eg. Sports, gym)      50-100     18-25  "
      ]
     },
     "execution_count": 66,
     "metadata": {},
     "output_type": "execute_result"
    }
   ],
   "source": [
    "df.head()"
   ]
  },
  {
   "cell_type": "code",
   "execution_count": 67,
   "id": "77d01031",
   "metadata": {},
   "outputs": [],
   "source": [
    "from sklearn.model_selection import train_test_split\n",
    "from sklearn.preprocessing import LabelEncoder, OrdinalEncoder, OneHotEncoder\n",
    "from sklearn.compose import ColumnTransformer\n",
    "from sklearn.naive_bayes import GaussianNB\n",
    "from sklearn.linear_model import LogisticRegression\n",
    "from sklearn.svm import SVC\n",
    "from sklearn.ensemble import RandomForestClassifier\n",
    "from xgboost import XGBClassifier\n",
    "from lightgbm import LGBMClassifier\n",
    "from sklearn.metrics import accuracy_score, classification_report"
   ]
  },
  {
   "cell_type": "code",
   "execution_count": 68,
   "id": "835867fe",
   "metadata": {},
   "outputs": [],
   "source": [
    "# Define target variable\n",
    "y = df['price_range']\n",
    "\n",
    "\n",
    "# Define feature matrix X (excluding 'respondent_id' and the target 'price_range')\n",
    "X = df.drop(columns=['respondent_id', 'price_range'])"
   ]
  },
  {
   "cell_type": "code",
   "execution_count": 69,
   "id": "7a6ffeb4",
   "metadata": {},
   "outputs": [
    {
     "name": "stdout",
     "output_type": "stream",
     "text": [
      "Shape of X (features): (29956, 15)\n",
      "Shape of y (target): (29956,)\n"
     ]
    }
   ],
   "source": [
    "print(f\"Shape of X (features): {X.shape}\")\n",
    "print(f\"Shape of y (target): {y.shape}\")"
   ]
  },
  {
   "cell_type": "code",
   "execution_count": 70,
   "id": "c9840a5f",
   "metadata": {},
   "outputs": [],
   "source": [
    "le_y = LabelEncoder()\n",
    "y_encoded = le_y.fit_transform(y)\n"
   ]
  },
  {
   "cell_type": "code",
   "execution_count": 71,
   "id": "a27c5819",
   "metadata": {},
   "outputs": [
    {
     "data": {
      "text/plain": [
       "['label_encoder_y.joblib']"
      ]
     },
     "execution_count": 71,
     "metadata": {},
     "output_type": "execute_result"
    }
   ],
   "source": [
    "import joblib\n",
    "joblib.dump(le_y, 'label_encoder_y.joblib')"
   ]
  },
  {
   "cell_type": "code",
   "execution_count": 43,
   "id": "0087f2d9",
   "metadata": {},
   "outputs": [],
   "source": [
    "label_encode_cols = [\n",
    "    'age_group',\n",
    "    'income_levels',\n",
    "    'health_concerns',\n",
    "    'consume_frequency(weekly)',\n",
    "    'preferable_consumption_size'\n",
    "]"
   ]
  },
  {
   "cell_type": "code",
   "execution_count": 44,
   "id": "3f3899db",
   "metadata": {},
   "outputs": [],
   "source": [
    "# Identify all categorical columns\n",
    "categorical_cols = X.select_dtypes(include=['object', 'category']).columns.tolist()\n",
    "\n",
    "# Remaining categorical columns for One-Hot Encoding\n",
    "one_hot_encode_cols = [col for col in categorical_cols if col not in label_encode_cols]"
   ]
  },
  {
   "cell_type": "code",
   "execution_count": 45,
   "id": "4778fb0d",
   "metadata": {},
   "outputs": [
    {
     "data": {
      "text/plain": [
       "['gender',\n",
       " 'zone',\n",
       " 'occupation',\n",
       " 'current_brand',\n",
       " 'awareness_of_other_brands',\n",
       " 'reasons_for_choosing_brands',\n",
       " 'flavor_preference',\n",
       " 'purchase_channel',\n",
       " 'packaging_preference',\n",
       " 'typical_consumption_situations']"
      ]
     },
     "execution_count": 45,
     "metadata": {},
     "output_type": "execute_result"
    }
   ],
   "source": [
    "one_hot_encode_cols"
   ]
  },
  {
   "cell_type": "code",
   "execution_count": 46,
   "id": "f4f63683",
   "metadata": {},
   "outputs": [
    {
     "data": {
      "text/plain": [
       "[]"
      ]
     },
     "execution_count": 46,
     "metadata": {},
     "output_type": "execute_result"
    }
   ],
   "source": [
    "numerical_cols = X.select_dtypes(include=['int64', 'float64']).columns.tolist()\n",
    "numerical_cols"
   ]
  },
  {
   "cell_type": "code",
   "execution_count": 47,
   "id": "8c5c90c0",
   "metadata": {},
   "outputs": [],
   "source": [
    "X_train, X_test, y_train, y_test = train_test_split(\n",
    "    X, y_encoded, test_size=0.25, random_state=42\n",
    ")"
   ]
  },
  {
   "cell_type": "code",
   "execution_count": 49,
   "id": "f55b9b01",
   "metadata": {},
   "outputs": [],
   "source": [
    "preprocessor = ColumnTransformer(\n",
    "    transformers=[\n",
    "        # OrdinalEncoder for columns specified for Label Encoding\n",
    "        ('ordinal', OrdinalEncoder(handle_unknown='use_encoded_value', unknown_value=-1), label_encode_cols),\n",
    "        # OneHotEncoder for all remaining categorical columns\n",
    "        ('onehot', OneHotEncoder(handle_unknown='ignore'), one_hot_encode_cols),\n",
    "        # Pass through numerical columns without transformation\n",
    "        ('passthrough', 'passthrough', numerical_cols)\n",
    "    ],\n",
    "    remainder='drop' # Drop any columns not specified in transformers\n",
    ")"
   ]
  },
  {
   "cell_type": "code",
   "execution_count": 50,
   "id": "40399627",
   "metadata": {},
   "outputs": [],
   "source": [
    "X_train_encoded = preprocessor.fit_transform(X_train)\n",
    "X_test_encoded = preprocessor.transform(X_test)"
   ]
  },
  {
   "cell_type": "code",
   "execution_count": 16,
   "id": "3f9edd4d",
   "metadata": {},
   "outputs": [
    {
     "name": "stdout",
     "output_type": "stream",
     "text": [
      "Shape of encoded X_train: (22467, 34)\n",
      "Shape of encoded X_test: (7489, 34)\n"
     ]
    }
   ],
   "source": [
    "print(f\"Shape of encoded X_train: {X_train_encoded.shape}\")\n",
    "print(f\"Shape of encoded X_test: {X_test_encoded.shape}\")"
   ]
  },
  {
   "cell_type": "code",
   "execution_count": 32,
   "id": "e17fc850",
   "metadata": {},
   "outputs": [
    {
     "data": {
      "text/plain": [
       "['preprocessor.pkl']"
      ]
     },
     "execution_count": 32,
     "metadata": {},
     "output_type": "execute_result"
    }
   ],
   "source": [
    "import joblib\n",
    "joblib.dump(preprocessor, 'preprocessor.pkl')"
   ]
  },
  {
   "cell_type": "code",
   "execution_count": 17,
   "id": "a0a83f62",
   "metadata": {},
   "outputs": [],
   "source": [
    "# models = {\n",
    "#     \"Gaussian Naive Bayes\": GaussianNB(),\n",
    "#     \"Logistic Regression\": LogisticRegression(), # Increased max_iter for robustness\n",
    "#     \"Support Vector Machine (SVM)\": SVC(),\n",
    "#     \"Random Forest\": RandomForestClassifier(),\n",
    "#     \"XGBoost\": XGBClassifier(), # Suppress warnings\n",
    "#     \"Light Gradient Boosting Machine (Light GBM)\": LGBMClassifier()\n",
    "# }"
   ]
  },
  {
   "cell_type": "code",
   "execution_count": 18,
   "id": "a8395c57",
   "metadata": {},
   "outputs": [],
   "source": [
    "# model_performance = {}"
   ]
  },
  {
   "cell_type": "code",
   "execution_count": 19,
   "id": "cd646f2f",
   "metadata": {},
   "outputs": [],
   "source": [
    "# for name, model in models.items():\n",
    "#     print(f\"\\n--- Training and Evaluating: {name} ---\")\n",
    "#     try:\n",
    "#         # Train the model\n",
    "#         model.fit(X_train_encoded, y_train)\n",
    "\n",
    "#         # Make predictions on the test set\n",
    "#         y_pred = model.predict(X_test_encoded)\n",
    "\n",
    "#         # Calculate and store performance metrics\n",
    "#         accuracy = accuracy_score(y_test, y_pred)\n",
    "#         report = classification_report(y_test, y_pred, target_names=le_y.classes_)\n",
    "\n",
    "#         model_performance[name] = {\n",
    "#             \"Accuracy\": accuracy,\n",
    "#             \"Classification Report\": report\n",
    "#         }\n",
    "\n",
    "#         # Print performance metrics\n",
    "#         print(f\"Accuracy for {name}: {accuracy:.4f}\")\n",
    "#         print(f\"Classification Report for {name}:\\n{report}\")\n",
    "#     except Exception as e:\n",
    "#         print(f\"An error occurred during training/evaluation of {name}: {e}\")\n",
    "#         model_performance[name] = {\"Accuracy\": 0, \"Classification Report\": f\"Error: {e}\"}"
   ]
  },
  {
   "cell_type": "code",
   "execution_count": 20,
   "id": "00b31787",
   "metadata": {},
   "outputs": [],
   "source": [
    "# best_model_name = \"\"\n",
    "# best_accuracy = -1.0"
   ]
  },
  {
   "cell_type": "code",
   "execution_count": 21,
   "id": "4bfeff7b",
   "metadata": {},
   "outputs": [],
   "source": [
    "# # Iterate through the stored performance to find the best model\n",
    "# for name, metrics in model_performance.items():\n",
    "#     print(f\"\\nModel: {name}\")\n",
    "#     print(f\"  Accuracy: {metrics['Accuracy']:.4f}\")\n",
    "#     # The full classification report is already printed above for each model.\n",
    "\n",
    "#     if metrics['Accuracy'] > best_accuracy:\n",
    "#         best_accuracy = metrics['Accuracy']\n",
    "#         best_model_name = name\n",
    "\n",
    "# print(f\"\\nBest Performing Model: {best_model_name} with an Accuracy of {best_accuracy:.4f}\")"
   ]
  },
  {
   "cell_type": "code",
   "execution_count": null,
   "id": "eae2ee9e",
   "metadata": {},
   "outputs": [],
   "source": [
    "# models = {\n",
    "#     \"Gaussian Naive Bayes\": GaussianNB(),\n",
    "#     \"Logistic Regression\": LogisticRegression(random_state=42, max_iter=2000), # Increased max_iter for robustness\n",
    "#     \"Support Vector Machine (SVM)\": SVC(random_state=42),\n",
    "#     \"Random Forest\": RandomForestClassifier(random_state=42),\n",
    "#     \"XGBoost\": XGBClassifier(use_label_encoder=False, eval_metric='mlogloss', random_state=42), # Suppress warnings\n",
    "#     \"Light Gradient Boosting Machine (Light GBM)\": LGBMClassifier(random_state=42)\n",
    "# }"
   ]
  },
  {
   "cell_type": "code",
   "execution_count": 28,
   "id": "84138ce5",
   "metadata": {},
   "outputs": [],
   "source": [
    "models = [\n",
    "    (\n",
    "        \"Gaussian Naive Bayes\", \n",
    "        GaussianNB(), \n",
    "        (X_train_encoded, y_train),\n",
    "        (X_test_encoded, y_test)\n",
    "    ),\n",
    "    (\n",
    "        \"Logistic Regression\", \n",
    "        LogisticRegression(random_state=42, max_iter=2000), \n",
    "        (X_train_encoded, y_train),\n",
    "        (X_test_encoded, y_test)\n",
    "    ),\n",
    "    (\n",
    "        \"Support Vector Machine (SVM)\", \n",
    "        SVC(), \n",
    "        (X_train_encoded, y_train),\n",
    "        (X_test_encoded, y_test)\n",
    "    ),\n",
    "    (\n",
    "        \"Random Forest\", \n",
    "        RandomForestClassifier(), \n",
    "        (X_train_encoded, y_train),\n",
    "        (X_test_encoded, y_test)\n",
    "    ),\n",
    "    (\n",
    "        \"XGBoost\", \n",
    "        XGBClassifier(use_label_encoder=False, eval_metric='mlogloss', random_state=42), \n",
    "        (X_train_encoded, y_train),\n",
    "        (X_test_encoded, y_test)\n",
    "    ),\n",
    "    (\n",
    "        \"Light Gradient Boosting Machine (Light GBM)\", \n",
    "        LGBMClassifier(random_state=42), \n",
    "        (X_train_encoded, y_train),\n",
    "        (X_test_encoded, y_test)\n",
    "    )\n",
    "]"
   ]
  },
  {
   "cell_type": "code",
   "execution_count": 29,
   "id": "0703ed6e",
   "metadata": {},
   "outputs": [],
   "source": [
    "reports = []"
   ]
  },
  {
   "cell_type": "code",
   "execution_count": 30,
   "id": "e57fc820",
   "metadata": {},
   "outputs": [],
   "source": [
    "import joblib"
   ]
  },
  {
   "cell_type": "code",
   "execution_count": null,
   "id": "a1cc184d",
   "metadata": {},
   "outputs": [],
   "source": [
    "\n",
    "\n",
    "for model_name, model, train_set, test_set in models:\n",
    "    X_train = train_set[0]\n",
    "    y_train = train_set[1]\n",
    "    X_test = test_set[0]\n",
    "    y_test = test_set[1]\n",
    "    \n",
    "    model.fit(X_train, y_train)\n",
    "    y_pred = model.predict(X_test)\n",
    "    report = classification_report(y_test, y_pred, output_dict=True)\n",
    "    report1 = classification_report(y_test, y_pred)\n",
    "    print(model_name)\n",
    "    print(report1)\n",
    "    print('\\n')\n",
    "    print(\"-\"*20)\n",
    "    print('\\n')\n",
    "    reports.append(report)\n",
    "    if(\"XGB\" in model_name):\n",
    "        print('saving the model ',model_name)\n",
    "        print(model)\n",
    "        joblib.dump(model, 'xgb_model.pkl')"
   ]
  },
  {
   "cell_type": "code",
   "execution_count": 34,
   "id": "bd35efac",
   "metadata": {},
   "outputs": [
    {
     "data": {
      "text/plain": [
       "6"
      ]
     },
     "execution_count": 34,
     "metadata": {},
     "output_type": "execute_result"
    }
   ],
   "source": [
    "len(reports)\n"
   ]
  },
  {
   "cell_type": "markdown",
   "id": "bcd7c623",
   "metadata": {},
   "source": [
    "### testing"
   ]
  },
  {
   "cell_type": "code",
   "execution_count": 33,
   "id": "26fdaae1",
   "metadata": {},
   "outputs": [],
   "source": [
    "# Load the preprocessor\n",
    "preprocessor_test = joblib.load('preprocessor.pkl')\n",
    "\n",
    "# Load the model\n",
    "model_test = joblib.load('xgb_model.pkl')\n"
   ]
  },
  {
   "cell_type": "code",
   "execution_count": 58,
   "id": "3f07497c",
   "metadata": {},
   "outputs": [],
   "source": [
    "ip_data_text=preprocessor_test.transform(X_test)"
   ]
  },
  {
   "cell_type": "code",
   "execution_count": 59,
   "id": "75460212",
   "metadata": {},
   "outputs": [],
   "source": [
    "predic_test=model_test.predict(ip_data_text)"
   ]
  },
  {
   "cell_type": "code",
   "execution_count": 61,
   "id": "2ef02607",
   "metadata": {},
   "outputs": [
    {
     "data": {
      "text/plain": [
       "0.9166777940980104"
      ]
     },
     "execution_count": 61,
     "metadata": {},
     "output_type": "execute_result"
    }
   ],
   "source": [
    "accuracy_score(y_test,predic_test)"
   ]
  },
  {
   "cell_type": "code",
   "execution_count": null,
   "id": "1325c3bc",
   "metadata": {},
   "outputs": [],
   "source": [
    "preprocessor = ColumnTransformer(\n",
    "    transformers=[\n",
    "        # OrdinalEncoder for columns specified for Label Encoding\n",
    "        ('ordinal', OrdinalEncoder(handle_unknown='use_encoded_value', unknown_value=-1), label_encode_cols),\n",
    "        # OneHotEncoder for all remaining categorical columns\n",
    "        ('onehot', OneHotEncoder(handle_unknown='ignore'), one_hot_encode_cols),\n",
    "        # Pass through numerical columns without transformation\n",
    "        ('passthrough', 'passthrough', numerical_cols)\n",
    "    ],\n",
    "    remainder='drop' # Drop any columns not specified in transformers\n",
    ")"
   ]
  },
  {
   "cell_type": "code",
   "execution_count": 72,
   "id": "db7f2354",
   "metadata": {},
   "outputs": [
    {
     "data": {
      "text/plain": [
       "array(['100-150', '150-200', '200-250', ..., '200-250', '150-200',\n",
       "       '200-250'], dtype=object)"
      ]
     },
     "execution_count": 72,
     "metadata": {},
     "output_type": "execute_result"
    }
   ],
   "source": [
    "le_y.inverse_transform(predic_test)"
   ]
  },
  {
   "cell_type": "markdown",
   "id": "3b4c28d8",
   "metadata": {},
   "source": [
    "### mlflow"
   ]
  },
  {
   "cell_type": "code",
   "execution_count": 22,
   "id": "28af4a9f",
   "metadata": {},
   "outputs": [],
   "source": [
    "import mlflow\n",
    "import mlflow.sklearn\n",
    "import mlflow.xgboost\n",
    "import mlflow.lightgbm"
   ]
  },
  {
   "cell_type": "code",
   "execution_count": 28,
   "id": "6c0c58f5",
   "metadata": {},
   "outputs": [
    {
     "name": "stderr",
     "output_type": "stream",
     "text": [
      "2025/06/18 19:33:00 INFO mlflow.tracking.fluent: Experiment with name 'Beverage Price Prediction1' does not exist. Creating a new experiment.\n"
     ]
    }
   ],
   "source": [
    "mlflow.set_experiment(\"Beverage Price Prediction1\")\n",
    "mlflow.set_tracking_uri(\"http://localhost:5000\") "
   ]
  },
  {
   "cell_type": "code",
   "execution_count": null,
   "id": "e9cb310f",
   "metadata": {},
   "outputs": [],
   "source": [
    "\n",
    "for i, element in enumerate(models):\n",
    "    model_name = element[0]\n",
    "    model = element[1]\n",
    "    report = reports[i]\n",
    "    \n",
    "    with mlflow.start_run(run_name=model_name):        \n",
    "        mlflow.log_param(\"model\", model_name)\n",
    "        mlflow.log_metric('accuracy', report['accuracy'])\n",
    "        mlflow.log_metric('recall_class_0', report['0']['recall'])\n",
    "        mlflow.log_metric('recall_class_2', report['1']['recall'])\n",
    "        mlflow.log_metric('recall_class_3', report['1']['recall'])\n",
    "        mlflow.log_metric('recall_class_4', report['1']['recall'])\n",
    "        mlflow.log_metric('f1_score_macro', report['macro avg']['f1-score'])        \n",
    "        \n",
    "        if \"XGB\" in model_name:\n",
    "            mlflow.xgboost.log_model(model, \"model\")\n",
    "        elif \"Light GBM\" in model_name:\n",
    "            mlflow.lightgbm.log_model(model, \"model\")\n",
    "        else:\n",
    "            mlflow.sklearn.log_model(model, \"model\") \n"
   ]
  },
  {
   "cell_type": "markdown",
   "id": "ed1738b7",
   "metadata": {},
   "source": []
  },
  {
   "cell_type": "markdown",
   "id": "d4edbc44",
   "metadata": {},
   "source": [
    "### dagshub\n"
   ]
  },
  {
   "cell_type": "code",
   "execution_count": 35,
   "id": "d6a34f78",
   "metadata": {},
   "outputs": [],
   "source": [
    "import mlflow\n",
    "import mlflow.sklearn\n",
    "import mlflow.xgboost\n",
    "import mlflow.lightgbm"
   ]
  },
  {
   "cell_type": "code",
   "execution_count": 36,
   "id": "818a2709",
   "metadata": {},
   "outputs": [
    {
     "data": {
      "text/html": [
       "<pre style=\"white-space:pre;overflow-x:auto;line-height:normal;font-family:Menlo,'DejaVu Sans Mono',consolas,'Courier New',monospace\">Initialized MLflow to track repo <span style=\"color: #008000; text-decoration-color: #008000\">\"vinaysvinays456/Beverage-Price-Prediction\"</span>\n",
       "</pre>\n"
      ],
      "text/plain": [
       "Initialized MLflow to track repo \u001b[32m\"vinaysvinays456/Beverage-Price-Prediction\"\u001b[0m\n"
      ]
     },
     "metadata": {},
     "output_type": "display_data"
    },
    {
     "data": {
      "text/html": [
       "<pre style=\"white-space:pre;overflow-x:auto;line-height:normal;font-family:Menlo,'DejaVu Sans Mono',consolas,'Courier New',monospace\">Repository vinaysvinays456/Beverage-Price-Prediction initialized!\n",
       "</pre>\n"
      ],
      "text/plain": [
       "Repository vinaysvinays456/Beverage-Price-Prediction initialized!\n"
      ]
     },
     "metadata": {},
     "output_type": "display_data"
    }
   ],
   "source": [
    "import dagshub\n",
    "dagshub.init(repo_owner='vinaysvinays456', repo_name='Beverage-Price-Prediction', mlflow=True)\n"
   ]
  },
  {
   "cell_type": "code",
   "execution_count": 37,
   "id": "39d5a82d",
   "metadata": {},
   "outputs": [],
   "source": [
    "import os"
   ]
  },
  {
   "cell_type": "code",
   "execution_count": 38,
   "id": "4acac737",
   "metadata": {},
   "outputs": [],
   "source": [
    "import joblib"
   ]
  },
  {
   "cell_type": "code",
   "execution_count": 40,
   "id": "ec65bd44",
   "metadata": {},
   "outputs": [
    {
     "name": "stdout",
     "output_type": "stream",
     "text": [
      "Gaussian Naive Bayes GaussianNB() 0\n",
      "Gaussian Naive Bayes 1\n",
      "2\n",
      "else\n",
      "3\n",
      "Logistic Regression LogisticRegression(max_iter=2000, random_state=42) 0\n",
      "Logistic Regression 1\n",
      "2\n",
      "else\n",
      "3\n",
      "Support Vector Machine (SVM) SVC() 0\n",
      "Support Vector Machine (SVM) 1\n",
      "2\n",
      "else\n",
      "3\n",
      "Random Forest RandomForestClassifier() 0\n",
      "Random Forest 1\n",
      "2\n",
      "else\n"
     ]
    },
    {
     "name": "stderr",
     "output_type": "stream",
     "text": [
      "2025/06/18 22:28:40 WARNING mlflow.utils.environment: Encountered an unexpected error while inferring pip requirements (model URI: C:\\Users\\VINAYS~1\\AppData\\Local\\Temp\\tmp_x0cn7ig\\model\\model.pkl, flavor: sklearn), fall back to return ['scikit-learn==1.6.1', 'cloudpickle==2.2.1']. Set logging level to DEBUG to see the full traceback.\n"
     ]
    },
    {
     "name": "stdout",
     "output_type": "stream",
     "text": [
      "3\n",
      "XGBoost XGBClassifier(base_score=0.5, booster='gbtree', callbacks=None,\n",
      "              colsample_bylevel=1, colsample_bynode=1, colsample_bytree=1,\n",
      "              early_stopping_rounds=None, enable_categorical=False,\n",
      "              eval_metric='mlogloss', gamma=0, gpu_id=-1,\n",
      "              grow_policy='depthwise', importance_type=None,\n",
      "              interaction_constraints='', learning_rate=0.300000012,\n",
      "              max_bin=256, max_cat_to_onehot=4, max_delta_step=0, max_depth=6,\n",
      "              max_leaves=0, min_child_weight=1, missing=nan,\n",
      "              monotone_constraints='()', n_estimators=100, n_jobs=0,\n",
      "              num_parallel_tree=1, objective='multi:softprob', predictor='auto',\n",
      "              random_state=42, reg_alpha=0, ...) 0\n",
      "XGBoost 1\n",
      "2\n",
      "xgb\n",
      "3\n",
      "Light Gradient Boosting Machine (Light GBM) LGBMClassifier(random_state=42) 0\n",
      "Light Gradient Boosting Machine (Light GBM) 1\n",
      "2\n",
      "lightbg\n",
      "3\n"
     ]
    }
   ],
   "source": [
    "#dagshub.init(repo_owner='vinaysvinays456', repo_name='Beverage-Price-Prediction', mlflow=True)\n",
    "\n",
    "os.environ['MLFLOW_TRACKING_USERNAME'] = 'vinaysvinays456' \n",
    "os.environ['MLFLOW_TRACKING_PASSWORD'] = '9467c5eb54b1fe4fa1963d9994fa658202dff988' # \n",
    "os.environ['MLFLOW_TRACKING_URI'] = 'https://dagshub.com/vinaysvinays456/Beverage-Price-Prediction.mlflow' \n",
    "\n",
    "\n",
    "mlflow.set_experiment(\"Beverage Price Prediction\")\n",
    "#mlflow.set_tracking_uri(\"https://dagshub.com/vinaysvinays456/Beverage-Price-Prediction.mlflow\") \n",
    "\n",
    "for i, element in enumerate(models):\n",
    "    model_name = element[0]\n",
    "    model = element[1]\n",
    "    report = reports[i]\n",
    "    print(model_name,model,0)\n",
    "    with mlflow.start_run(run_name=model_name):        \n",
    "        print(model_name,1)\n",
    "        mlflow.log_metric('accuracy', report['accuracy'])\n",
    "        mlflow.log_metric('recall_class_0', report['0']['recall'])\n",
    "        mlflow.log_metric('recall_class_1', report['1']['recall'])\n",
    "        mlflow.log_metric('recall_class_2', report['2']['recall'])\n",
    "        mlflow.log_metric('recall_class_3', report['3']['recall'])\n",
    "        mlflow.log_metric('f1_score_macro', report['macro avg']['f1-score'])        \n",
    "        \n",
    "        print(2)\n",
    "        \n",
    "        if \"XGB\" in model_name:\n",
    "            print(\"xgb\")\n",
    "            mlflow.xgboost.log_model(model, \"model\")\n",
    "            \n",
    "        elif \"Light GBM\" in model_name:\n",
    "            print(\"lightbg\")\n",
    "            mlflow.lightgbm.log_model(model, \"model\")\n",
    "            \n",
    "        else:\n",
    "            print(\"else\")\n",
    "            mlflow.sklearn.log_model(model, \"model\") \n",
    "        print(3)\n"
   ]
  },
  {
   "cell_type": "code",
   "execution_count": null,
   "id": "8889d4f7",
   "metadata": {},
   "outputs": [],
   "source": []
  }
 ],
 "metadata": {
  "kernelspec": {
   "display_name": "full",
   "language": "python",
   "name": "python3"
  },
  "language_info": {
   "codemirror_mode": {
    "name": "ipython",
    "version": 3
   },
   "file_extension": ".py",
   "mimetype": "text/x-python",
   "name": "python",
   "nbconvert_exporter": "python",
   "pygments_lexer": "ipython3",
   "version": "3.9.23"
  }
 },
 "nbformat": 4,
 "nbformat_minor": 5
}
